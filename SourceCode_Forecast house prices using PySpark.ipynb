{
  "nbformat": 4,
  "nbformat_minor": 0,
  "metadata": {
    "colab": {
      "provenance": []
    },
    "kernelspec": {
      "name": "python3",
      "display_name": "Python 3"
    },
    "language_info": {
      "name": "python"
    }
  },
  "cells": [
    {
      "cell_type": "code",
      "source": [
        "!pip install pyspark"
      ],
      "metadata": {
        "colab": {
          "base_uri": "https://localhost:8080/"
        },
        "id": "DVuB4op17VVj",
        "outputId": "3ad4777c-6c75-41e7-df6a-e9cbc6ebb0f3"
      },
      "execution_count": null,
      "outputs": [
        {
          "output_type": "stream",
          "name": "stdout",
          "text": [
            "Looking in indexes: https://pypi.org/simple, https://us-python.pkg.dev/colab-wheels/public/simple/\n",
            "Collecting pyspark\n",
            "  Downloading pyspark-3.3.1.tar.gz (281.4 MB)\n",
            "\u001b[K     |████████████████████████████████| 281.4 MB 50 kB/s \n",
            "\u001b[?25hCollecting py4j==0.10.9.5\n",
            "  Downloading py4j-0.10.9.5-py2.py3-none-any.whl (199 kB)\n",
            "\u001b[K     |████████████████████████████████| 199 kB 48.5 MB/s \n",
            "\u001b[?25hBuilding wheels for collected packages: pyspark\n",
            "  Building wheel for pyspark (setup.py) ... \u001b[?25l\u001b[?25hdone\n",
            "  Created wheel for pyspark: filename=pyspark-3.3.1-py2.py3-none-any.whl size=281845512 sha256=856e8387605136eb67c72be4251f6b4cff695c747675b9052b2109f1e3f02037\n",
            "  Stored in directory: /root/.cache/pip/wheels/42/59/f5/79a5bf931714dcd201b26025347785f087370a10a3329a899c\n",
            "Successfully built pyspark\n",
            "Installing collected packages: py4j, pyspark\n",
            "Successfully installed py4j-0.10.9.5 pyspark-3.3.1\n"
          ]
        }
      ]
    },
    {
      "cell_type": "code",
      "source": [
        "import warnings\n",
        "warnings.filterwarnings('ignore')\n",
        "\n",
        "import numpy as np \n",
        "import pandas as pd \n",
        "import os\n",
        "import seaborn as sns\n",
        "import matplotlib.pyplot as plt\n",
        "from sklearn import metrics\n",
        "\n",
        "from pyspark import SparkConf, SparkContext\n",
        "from pyspark.sql import SparkSession, SQLContext\n",
        "from pyspark.sql.types import IntegerType\n",
        "import pyspark.sql.functions as F\n",
        "from pyspark.sql.functions import udf, col, countDistinct\n",
        "\n",
        "from pyspark.mllib.evaluation import RegressionMetrics\n",
        "from pyspark.ml.classification import LogisticRegression, RandomForestClassifier\n",
        "\n",
        "from pyspark.ml.tuning import ParamGridBuilder, CrossValidator, CrossValidatorModel\n",
        "from pyspark.ml.feature import VectorAssembler, StandardScaler\n",
        "from pyspark.ml.evaluation import RegressionEvaluator, BinaryClassificationEvaluator\n",
        "\n",
        "from pyspark.ml.stat import Correlation"
      ],
      "metadata": {
        "id": "hoOIpq22OsHz"
      },
      "execution_count": null,
      "outputs": []
    },
    {
      "cell_type": "markdown",
      "source": [
        "**Load data set**"
      ],
      "metadata": {
        "id": "USSNN2Il1Fn2"
      }
    },
    {
      "cell_type": "code",
      "execution_count": null,
      "metadata": {
        "colab": {
          "base_uri": "https://localhost:8080/"
        },
        "id": "HuZaD04zFf_A",
        "outputId": "fb5d7233-3f53-4aa5-e455-c12e2a9392c3"
      },
      "outputs": [
        {
          "output_type": "stream",
          "name": "stdout",
          "text": [
            "root\n",
            " |-- LotArea: string (nullable = true)\n",
            " |-- OverallQual: string (nullable = true)\n",
            " |-- OverallCond: string (nullable = true)\n",
            " |-- TotalBsmtSF: string (nullable = true)\n",
            " |-- FullBath: string (nullable = true)\n",
            " |-- HalfBath: string (nullable = true)\n",
            " |-- BedroomAbvGr: string (nullable = true)\n",
            " |-- TotRmsAbvGrd: string (nullable = true)\n",
            " |-- Fireplaces: string (nullable = true)\n",
            " |-- GarageArea: string (nullable = true)\n",
            " |-- AboveMedianPrice: string (nullable = true)\n",
            "\n"
          ]
        }
      ],
      "source": [
        "spark=SparkSession.builder.appName(\"DataFrame\").getOrCreate()\n",
        "\n",
        "df1 = (spark.read\n",
        "               .option(\"header\", True)\n",
        "             .csv(\"housepricedata.csv\"))\n",
        "df1.printSchema()"
      ]
    },
    {
      "cell_type": "code",
      "source": [
        "# Convert String to Integer Type\n",
        "df1=df1.withColumn(\"LotArea\",df1.LotArea.cast(IntegerType()))\n",
        "df1=df1.withColumn(\"OverallQual\",df1.OverallQual.cast(IntegerType()))\n",
        "df1=df1.withColumn(\"OverallCond\",df1.OverallCond.cast(IntegerType()))\n",
        "df1=df1.withColumn(\"TotalBsmtSF\",df1.TotalBsmtSF.cast(IntegerType()))\n",
        "df1=df1.withColumn(\"FullBath\",df1.FullBath.cast(IntegerType()))\n",
        "df1=df1.withColumn(\"HalfBath\",df1.HalfBath.cast(IntegerType()))\n",
        "df1=df1.withColumn(\"BedroomAbvGr\",df1.BedroomAbvGr.cast(IntegerType()))\n",
        "df1=df1.withColumn(\"TotRmsAbvGrd\",df1.TotRmsAbvGrd.cast(IntegerType()))\n",
        "df1=df1.withColumn(\"Fireplaces\",df1.Fireplaces.cast(IntegerType()))\n",
        "df1=df1.withColumn(\"GarageArea\",df1.GarageArea.cast(IntegerType()))\n",
        "df1=df1.withColumn(\"AboveMedianPrice\",df1.AboveMedianPrice.cast(IntegerType()))"
      ],
      "metadata": {
        "id": "jeHrBPB9_ct5"
      },
      "execution_count": null,
      "outputs": []
    },
    {
      "cell_type": "code",
      "source": [
        "df1.printSchema()"
      ],
      "metadata": {
        "colab": {
          "base_uri": "https://localhost:8080/"
        },
        "id": "I_C7k-mIBJlz",
        "outputId": "decd65c8-5494-4471-e85a-de097568b8f5"
      },
      "execution_count": null,
      "outputs": [
        {
          "output_type": "stream",
          "name": "stdout",
          "text": [
            "root\n",
            " |-- LotArea: integer (nullable = true)\n",
            " |-- OverallQual: integer (nullable = true)\n",
            " |-- OverallCond: integer (nullable = true)\n",
            " |-- TotalBsmtSF: integer (nullable = true)\n",
            " |-- FullBath: integer (nullable = true)\n",
            " |-- HalfBath: integer (nullable = true)\n",
            " |-- BedroomAbvGr: integer (nullable = true)\n",
            " |-- TotRmsAbvGrd: integer (nullable = true)\n",
            " |-- Fireplaces: integer (nullable = true)\n",
            " |-- GarageArea: integer (nullable = true)\n",
            " |-- AboveMedianPrice: integer (nullable = true)\n",
            "\n"
          ]
        }
      ]
    },
    {
      "cell_type": "code",
      "source": [
        "df1.show()"
      ],
      "metadata": {
        "colab": {
          "base_uri": "https://localhost:8080/"
        },
        "id": "n-TRtAA_Q86s",
        "outputId": "e5f98f34-b437-4ad8-a5f7-9fcf8c660422"
      },
      "execution_count": null,
      "outputs": [
        {
          "output_type": "stream",
          "name": "stdout",
          "text": [
            "+-------+-----------+-----------+-----------+--------+--------+------------+------------+----------+----------+----------------+\n",
            "|LotArea|OverallQual|OverallCond|TotalBsmtSF|FullBath|HalfBath|BedroomAbvGr|TotRmsAbvGrd|Fireplaces|GarageArea|AboveMedianPrice|\n",
            "+-------+-----------+-----------+-----------+--------+--------+------------+------------+----------+----------+----------------+\n",
            "|   8450|          7|          5|        856|       2|       1|           3|           8|         0|       548|               1|\n",
            "|   9600|          6|          8|       1262|       2|       0|           3|           6|         1|       460|               1|\n",
            "|  11250|          7|          5|        920|       2|       1|           3|           6|         1|       608|               1|\n",
            "|   9550|          7|          5|        756|       1|       0|           3|           7|         1|       642|               0|\n",
            "|  14260|          8|          5|       1145|       2|       1|           4|           9|         1|       836|               1|\n",
            "|  14115|          5|          5|        796|       1|       1|           1|           5|         0|       480|               0|\n",
            "|  10084|          8|          5|       1686|       2|       0|           3|           7|         1|       636|               1|\n",
            "|  10382|          7|          6|       1107|       2|       1|           3|           7|         2|       484|               1|\n",
            "|   6120|          7|          5|        952|       2|       0|           2|           8|         2|       468|               0|\n",
            "|   7420|          5|          6|        991|       1|       0|           2|           5|         2|       205|               0|\n",
            "|  11200|          5|          5|       1040|       1|       0|           3|           5|         0|       384|               0|\n",
            "|  11924|          9|          5|       1175|       3|       0|           4|          11|         2|       736|               1|\n",
            "|  12968|          5|          6|        912|       1|       0|           2|           4|         0|       352|               0|\n",
            "|  10652|          7|          5|       1494|       2|       0|           3|           7|         1|       840|               1|\n",
            "|  10920|          6|          5|       1253|       1|       1|           2|           5|         1|       352|               0|\n",
            "|   6120|          7|          8|        832|       1|       0|           2|           5|         0|       576|               0|\n",
            "|  11241|          6|          7|       1004|       1|       0|           2|           5|         1|       480|               0|\n",
            "|  10791|          4|          5|          0|       2|       0|           2|           6|         0|       516|               0|\n",
            "|  13695|          5|          5|       1114|       1|       1|           3|           6|         0|       576|               0|\n",
            "|   7560|          5|          6|       1029|       1|       0|           3|           6|         0|       294|               0|\n",
            "+-------+-----------+-----------+-----------+--------+--------+------------+------------+----------+----------+----------------+\n",
            "only showing top 20 rows\n",
            "\n"
          ]
        }
      ]
    },
    {
      "cell_type": "code",
      "source": [
        "df1.columns"
      ],
      "metadata": {
        "colab": {
          "base_uri": "https://localhost:8080/"
        },
        "id": "ANLBAnPn8uuQ",
        "outputId": "e1676ab7-e1e4-401d-9f4e-d46ce5848d81"
      },
      "execution_count": null,
      "outputs": [
        {
          "output_type": "execute_result",
          "data": {
            "text/plain": [
              "['LotArea',\n",
              " 'OverallQual',\n",
              " 'OverallCond',\n",
              " 'TotalBsmtSF',\n",
              " 'FullBath',\n",
              " 'HalfBath',\n",
              " 'BedroomAbvGr',\n",
              " 'TotRmsAbvGrd',\n",
              " 'Fireplaces',\n",
              " 'GarageArea',\n",
              " 'AboveMedianPrice']"
            ]
          },
          "metadata": {},
          "execution_count": 132
        }
      ]
    },
    {
      "cell_type": "markdown",
      "source": [
        "**Descriptive statistic**"
      ],
      "metadata": {
        "id": "zuJfDYFz80TF"
      }
    },
    {
      "cell_type": "code",
      "source": [
        "df1.select(df1.columns).describe().show()"
      ],
      "metadata": {
        "colab": {
          "base_uri": "https://localhost:8080/"
        },
        "id": "thYyx_xY8zJv",
        "outputId": "7a82018e-4aaf-47e7-c0dc-a2904140d7c1"
      },
      "execution_count": null,
      "outputs": [
        {
          "output_type": "stream",
          "name": "stdout",
          "text": [
            "+-------+------------------+------------------+------------------+------------------+------------------+-------------------+------------------+------------------+------------------+-----------------+------------------+\n",
            "|summary|           LotArea|       OverallQual|       OverallCond|       TotalBsmtSF|          FullBath|           HalfBath|      BedroomAbvGr|      TotRmsAbvGrd|        Fireplaces|       GarageArea|  AboveMedianPrice|\n",
            "+-------+------------------+------------------+------------------+------------------+------------------+-------------------+------------------+------------------+------------------+-----------------+------------------+\n",
            "|  count|              1460|              1460|              1460|              1460|              1460|               1460|              1460|              1460|              1460|             1460|              1460|\n",
            "|   mean|10516.828082191782|6.0993150684931505| 5.575342465753424|1057.4294520547944|1.5650684931506849|0.38287671232876713|2.8664383561643834| 6.517808219178082| 0.613013698630137|472.9801369863014|0.4986301369863014|\n",
            "| stddev|  9981.26493237915|1.3829965467415926|1.1127993367127318| 438.7053244594709|0.5509158012954318| 0.5028853810928912|0.8157780441442279|1.6253932905840511|0.6446663863122297|213.8048414533803| 0.500169443717869|\n",
            "|    min|              1300|                 1|                 1|                 0|                 0|                  0|                 0|                 2|                 0|                0|                 0|\n",
            "|    max|            215245|                10|                 9|              6110|                 3|                  2|                 8|                14|                 3|             1418|                 1|\n",
            "+-------+------------------+------------------+------------------+------------------+------------------+-------------------+------------------+------------------+------------------+-----------------+------------------+\n",
            "\n"
          ]
        }
      ]
    },
    {
      "cell_type": "code",
      "source": [
        "pd.DataFrame(df1.dtypes, columns = ['Column Name','Data type'])"
      ],
      "metadata": {
        "colab": {
          "base_uri": "https://localhost:8080/",
          "height": 394
        },
        "id": "i5jVNPdG9HlC",
        "outputId": "297ce1c1-a313-4eff-84c0-d327dabb0d13"
      },
      "execution_count": null,
      "outputs": [
        {
          "output_type": "execute_result",
          "data": {
            "text/plain": [
              "         Column Name Data type\n",
              "0            LotArea       int\n",
              "1        OverallQual       int\n",
              "2        OverallCond       int\n",
              "3        TotalBsmtSF       int\n",
              "4           FullBath       int\n",
              "5           HalfBath       int\n",
              "6       BedroomAbvGr       int\n",
              "7       TotRmsAbvGrd       int\n",
              "8         Fireplaces       int\n",
              "9         GarageArea       int\n",
              "10  AboveMedianPrice       int"
            ],
            "text/html": [
              "\n",
              "  <div id=\"df-692ee6ff-8668-462c-bbd1-3d126e0f322d\">\n",
              "    <div class=\"colab-df-container\">\n",
              "      <div>\n",
              "<style scoped>\n",
              "    .dataframe tbody tr th:only-of-type {\n",
              "        vertical-align: middle;\n",
              "    }\n",
              "\n",
              "    .dataframe tbody tr th {\n",
              "        vertical-align: top;\n",
              "    }\n",
              "\n",
              "    .dataframe thead th {\n",
              "        text-align: right;\n",
              "    }\n",
              "</style>\n",
              "<table border=\"1\" class=\"dataframe\">\n",
              "  <thead>\n",
              "    <tr style=\"text-align: right;\">\n",
              "      <th></th>\n",
              "      <th>Column Name</th>\n",
              "      <th>Data type</th>\n",
              "    </tr>\n",
              "  </thead>\n",
              "  <tbody>\n",
              "    <tr>\n",
              "      <th>0</th>\n",
              "      <td>LotArea</td>\n",
              "      <td>int</td>\n",
              "    </tr>\n",
              "    <tr>\n",
              "      <th>1</th>\n",
              "      <td>OverallQual</td>\n",
              "      <td>int</td>\n",
              "    </tr>\n",
              "    <tr>\n",
              "      <th>2</th>\n",
              "      <td>OverallCond</td>\n",
              "      <td>int</td>\n",
              "    </tr>\n",
              "    <tr>\n",
              "      <th>3</th>\n",
              "      <td>TotalBsmtSF</td>\n",
              "      <td>int</td>\n",
              "    </tr>\n",
              "    <tr>\n",
              "      <th>4</th>\n",
              "      <td>FullBath</td>\n",
              "      <td>int</td>\n",
              "    </tr>\n",
              "    <tr>\n",
              "      <th>5</th>\n",
              "      <td>HalfBath</td>\n",
              "      <td>int</td>\n",
              "    </tr>\n",
              "    <tr>\n",
              "      <th>6</th>\n",
              "      <td>BedroomAbvGr</td>\n",
              "      <td>int</td>\n",
              "    </tr>\n",
              "    <tr>\n",
              "      <th>7</th>\n",
              "      <td>TotRmsAbvGrd</td>\n",
              "      <td>int</td>\n",
              "    </tr>\n",
              "    <tr>\n",
              "      <th>8</th>\n",
              "      <td>Fireplaces</td>\n",
              "      <td>int</td>\n",
              "    </tr>\n",
              "    <tr>\n",
              "      <th>9</th>\n",
              "      <td>GarageArea</td>\n",
              "      <td>int</td>\n",
              "    </tr>\n",
              "    <tr>\n",
              "      <th>10</th>\n",
              "      <td>AboveMedianPrice</td>\n",
              "      <td>int</td>\n",
              "    </tr>\n",
              "  </tbody>\n",
              "</table>\n",
              "</div>\n",
              "      <button class=\"colab-df-convert\" onclick=\"convertToInteractive('df-692ee6ff-8668-462c-bbd1-3d126e0f322d')\"\n",
              "              title=\"Convert this dataframe to an interactive table.\"\n",
              "              style=\"display:none;\">\n",
              "        \n",
              "  <svg xmlns=\"http://www.w3.org/2000/svg\" height=\"24px\"viewBox=\"0 0 24 24\"\n",
              "       width=\"24px\">\n",
              "    <path d=\"M0 0h24v24H0V0z\" fill=\"none\"/>\n",
              "    <path d=\"M18.56 5.44l.94 2.06.94-2.06 2.06-.94-2.06-.94-.94-2.06-.94 2.06-2.06.94zm-11 1L8.5 8.5l.94-2.06 2.06-.94-2.06-.94L8.5 2.5l-.94 2.06-2.06.94zm10 10l.94 2.06.94-2.06 2.06-.94-2.06-.94-.94-2.06-.94 2.06-2.06.94z\"/><path d=\"M17.41 7.96l-1.37-1.37c-.4-.4-.92-.59-1.43-.59-.52 0-1.04.2-1.43.59L10.3 9.45l-7.72 7.72c-.78.78-.78 2.05 0 2.83L4 21.41c.39.39.9.59 1.41.59.51 0 1.02-.2 1.41-.59l7.78-7.78 2.81-2.81c.8-.78.8-2.07 0-2.86zM5.41 20L4 18.59l7.72-7.72 1.47 1.35L5.41 20z\"/>\n",
              "  </svg>\n",
              "      </button>\n",
              "      \n",
              "  <style>\n",
              "    .colab-df-container {\n",
              "      display:flex;\n",
              "      flex-wrap:wrap;\n",
              "      gap: 12px;\n",
              "    }\n",
              "\n",
              "    .colab-df-convert {\n",
              "      background-color: #E8F0FE;\n",
              "      border: none;\n",
              "      border-radius: 50%;\n",
              "      cursor: pointer;\n",
              "      display: none;\n",
              "      fill: #1967D2;\n",
              "      height: 32px;\n",
              "      padding: 0 0 0 0;\n",
              "      width: 32px;\n",
              "    }\n",
              "\n",
              "    .colab-df-convert:hover {\n",
              "      background-color: #E2EBFA;\n",
              "      box-shadow: 0px 1px 2px rgba(60, 64, 67, 0.3), 0px 1px 3px 1px rgba(60, 64, 67, 0.15);\n",
              "      fill: #174EA6;\n",
              "    }\n",
              "\n",
              "    [theme=dark] .colab-df-convert {\n",
              "      background-color: #3B4455;\n",
              "      fill: #D2E3FC;\n",
              "    }\n",
              "\n",
              "    [theme=dark] .colab-df-convert:hover {\n",
              "      background-color: #434B5C;\n",
              "      box-shadow: 0px 1px 3px 1px rgba(0, 0, 0, 0.15);\n",
              "      filter: drop-shadow(0px 1px 2px rgba(0, 0, 0, 0.3));\n",
              "      fill: #FFFFFF;\n",
              "    }\n",
              "  </style>\n",
              "\n",
              "      <script>\n",
              "        const buttonEl =\n",
              "          document.querySelector('#df-692ee6ff-8668-462c-bbd1-3d126e0f322d button.colab-df-convert');\n",
              "        buttonEl.style.display =\n",
              "          google.colab.kernel.accessAllowed ? 'block' : 'none';\n",
              "\n",
              "        async function convertToInteractive(key) {\n",
              "          const element = document.querySelector('#df-692ee6ff-8668-462c-bbd1-3d126e0f322d');\n",
              "          const dataTable =\n",
              "            await google.colab.kernel.invokeFunction('convertToInteractive',\n",
              "                                                     [key], {});\n",
              "          if (!dataTable) return;\n",
              "\n",
              "          const docLinkHtml = 'Like what you see? Visit the ' +\n",
              "            '<a target=\"_blank\" href=https://colab.research.google.com/notebooks/data_table.ipynb>data table notebook</a>'\n",
              "            + ' to learn more about interactive tables.';\n",
              "          element.innerHTML = '';\n",
              "          dataTable['output_type'] = 'display_data';\n",
              "          await google.colab.output.renderOutput(dataTable, element);\n",
              "          const docLink = document.createElement('div');\n",
              "          docLink.innerHTML = docLinkHtml;\n",
              "          element.appendChild(docLink);\n",
              "        }\n",
              "      </script>\n",
              "    </div>\n",
              "  </div>\n",
              "  "
            ]
          },
          "metadata": {},
          "execution_count": 134
        }
      ]
    },
    {
      "cell_type": "code",
      "source": [
        "#Check any missing value\n",
        "for column in df1.columns:\n",
        "    print(column, df1.filter(col(column).cast(\"float\").isin([None,np.nan])).count())"
      ],
      "metadata": {
        "colab": {
          "base_uri": "https://localhost:8080/"
        },
        "id": "Gf8hoROdB_HC",
        "outputId": "446a9a0b-14cc-4c65-e34d-c3d665f35c18"
      },
      "execution_count": null,
      "outputs": [
        {
          "output_type": "stream",
          "name": "stdout",
          "text": [
            "LotArea 0\n",
            "OverallQual 0\n",
            "OverallCond 0\n",
            "TotalBsmtSF 0\n",
            "FullBath 0\n",
            "HalfBath 0\n",
            "BedroomAbvGr 0\n",
            "TotRmsAbvGrd 0\n",
            "Fireplaces 0\n",
            "GarageArea 0\n",
            "AboveMedianPrice 0\n"
          ]
        }
      ]
    },
    {
      "cell_type": "code",
      "source": [
        "# Count number of each target element\n",
        "df1.groupBy('AboveMedianPrice').count().show()"
      ],
      "metadata": {
        "colab": {
          "base_uri": "https://localhost:8080/"
        },
        "id": "27kuCcUfsUN2",
        "outputId": "d4c46625-df56-4bf0-87b7-4f7ff85045b1"
      },
      "execution_count": null,
      "outputs": [
        {
          "output_type": "stream",
          "name": "stdout",
          "text": [
            "+----------------+-----+\n",
            "|AboveMedianPrice|count|\n",
            "+----------------+-----+\n",
            "|               1|  728|\n",
            "|               0|  732|\n",
            "+----------------+-----+\n",
            "\n"
          ]
        }
      ]
    },
    {
      "cell_type": "markdown",
      "source": [
        "--> This is a balance data set."
      ],
      "metadata": {
        "id": "d5sYOlmXf5ly"
      }
    },
    {
      "cell_type": "code",
      "source": [
        "# Count distinct column values\n",
        "for i in df1.columns:\n",
        "  df1.select(countDistinct(i)).show()"
      ],
      "metadata": {
        "colab": {
          "base_uri": "https://localhost:8080/"
        },
        "id": "wbWwjKdwQ-Kq",
        "outputId": "d7d5228c-f0c6-4920-e2d0-eed7cc2696a0"
      },
      "execution_count": null,
      "outputs": [
        {
          "output_type": "stream",
          "name": "stdout",
          "text": [
            "+-----------------------+\n",
            "|count(DISTINCT LotArea)|\n",
            "+-----------------------+\n",
            "|                   1073|\n",
            "+-----------------------+\n",
            "\n",
            "+---------------------------+\n",
            "|count(DISTINCT OverallQual)|\n",
            "+---------------------------+\n",
            "|                         10|\n",
            "+---------------------------+\n",
            "\n",
            "+---------------------------+\n",
            "|count(DISTINCT OverallCond)|\n",
            "+---------------------------+\n",
            "|                          9|\n",
            "+---------------------------+\n",
            "\n",
            "+---------------------------+\n",
            "|count(DISTINCT TotalBsmtSF)|\n",
            "+---------------------------+\n",
            "|                        721|\n",
            "+---------------------------+\n",
            "\n",
            "+------------------------+\n",
            "|count(DISTINCT FullBath)|\n",
            "+------------------------+\n",
            "|                       4|\n",
            "+------------------------+\n",
            "\n",
            "+------------------------+\n",
            "|count(DISTINCT HalfBath)|\n",
            "+------------------------+\n",
            "|                       3|\n",
            "+------------------------+\n",
            "\n",
            "+----------------------------+\n",
            "|count(DISTINCT BedroomAbvGr)|\n",
            "+----------------------------+\n",
            "|                           8|\n",
            "+----------------------------+\n",
            "\n",
            "+----------------------------+\n",
            "|count(DISTINCT TotRmsAbvGrd)|\n",
            "+----------------------------+\n",
            "|                          12|\n",
            "+----------------------------+\n",
            "\n",
            "+--------------------------+\n",
            "|count(DISTINCT Fireplaces)|\n",
            "+--------------------------+\n",
            "|                         4|\n",
            "+--------------------------+\n",
            "\n",
            "+--------------------------+\n",
            "|count(DISTINCT GarageArea)|\n",
            "+--------------------------+\n",
            "|                       441|\n",
            "+--------------------------+\n",
            "\n",
            "+--------------------------------+\n",
            "|count(DISTINCT AboveMedianPrice)|\n",
            "+--------------------------------+\n",
            "|                               2|\n",
            "+--------------------------------+\n",
            "\n"
          ]
        }
      ]
    },
    {
      "cell_type": "markdown",
      "source": [
        "**Visualization**"
      ],
      "metadata": {
        "id": "nOp9a5ZPCJRH"
      }
    },
    {
      "cell_type": "code",
      "source": [
        "df_visual=df1.toPandas()"
      ],
      "metadata": {
        "id": "i3Dpt9BIN6Y4"
      },
      "execution_count": null,
      "outputs": []
    },
    {
      "cell_type": "markdown",
      "source": [
        "Visualization of numeric variables"
      ],
      "metadata": {
        "id": "5O8NWuTYejQT"
      }
    },
    {
      "cell_type": "code",
      "source": [
        "# Lot area\n",
        "plt.figure(figsize=(5,4))\n",
        "sns.barplot(x='AboveMedianPrice',y='LotArea', color='AboveMedianPrice', data=df_visual, palette='Blues')\n",
        "plt.title(\"Lot area by Group of median price\")"
      ],
      "metadata": {
        "id": "HD3dqM5YCLbc",
        "colab": {
          "base_uri": "https://localhost:8080/",
          "height": 313
        },
        "outputId": "c140fd3f-5483-48f8-d9de-41e9b922b71b"
      },
      "execution_count": null,
      "outputs": [
        {
          "output_type": "execute_result",
          "data": {
            "text/plain": [
              "Text(0.5, 1.0, 'Lot area by Group of median price')"
            ]
          },
          "metadata": {},
          "execution_count": 139
        },
        {
          "output_type": "display_data",
          "data": {
            "text/plain": [
              "<Figure size 360x288 with 1 Axes>"
            ],
            "image/png": "[encoded data removed]"
          },
          "metadata": {
            "needs_background": "light"
          }
        }
      ]
    },
    {
      "cell_type": "code",
      "source": [
        "# Total basement square feet\n",
        "plt.figure(figsize=(5,4))\n",
        "sns.barplot(x='AboveMedianPrice',y='TotalBsmtSF',data=df_visual, palette='Blues')\n",
        "plt.title(\"Total basement square feet by Group of median price\")"
      ],
      "metadata": {
        "id": "MQfP3mBiwYzQ",
        "colab": {
          "base_uri": "https://localhost:8080/",
          "height": 313
        },
        "outputId": "47d73e3c-db2f-4c0f-db02-07168e9b36e2"
      },
      "execution_count": null,
      "outputs": [
        {
          "output_type": "execute_result",
          "data": {
            "text/plain": [
              "Text(0.5, 1.0, 'Total basement square feet by Group of median price')"
            ]
          },
          "metadata": {},
          "execution_count": 140
        },
        {
          "output_type": "display_data",
          "data": {
            "text/plain": [
              "<Figure size 360x288 with 1 Axes>"
            ],
            "image/png": "[encoded data removed]"
          },
          "metadata": {
            "needs_background": "light"
          }
        }
      ]
    },
    {
      "cell_type": "code",
      "source": [
        "# Garage area\n",
        "plt.figure(figsize=(5,4))\n",
        "sns.barplot(x='AboveMedianPrice',y='GarageArea',data=df_visual, palette='Blues')\n",
        "plt.title(\"Garage area by Group of median price\")"
      ],
      "metadata": {
        "colab": {
          "base_uri": "https://localhost:8080/",
          "height": 313
        },
        "id": "66LT05ClZ2YJ",
        "outputId": "6dbb1eac-85a0-499b-9fb0-04181a9871b4"
      },
      "execution_count": null,
      "outputs": [
        {
          "output_type": "execute_result",
          "data": {
            "text/plain": [
              "Text(0.5, 1.0, 'Garage area by Group of median price')"
            ]
          },
          "metadata": {},
          "execution_count": 141
        },
        {
          "output_type": "display_data",
          "data": {
            "text/plain": [
              "<Figure size 360x288 with 1 Axes>"
            ],
            "image/png": "[encoded data removed]"
          },
          "metadata": {
            "needs_background": "light"
          }
        }
      ]
    },
    {
      "cell_type": "markdown",
      "source": [
        "Visualization of categorical variables"
      ],
      "metadata": {
        "id": "VDPPW7mkeo9M"
      }
    },
    {
      "cell_type": "code",
      "source": [
        "# Overall quality \n",
        "sns.countplot(x='OverallQual', palette='mako', data=df_visual)\n",
        "plt.show()"
      ],
      "metadata": {
        "colab": {
          "base_uri": "https://localhost:8080/",
          "height": 279
        },
        "id": "59Y1RQ8BepDe",
        "outputId": "cc5105fc-b99e-499d-fec7-ae3654d93e2b"
      },
      "execution_count": null,
      "outputs": [
        {
          "output_type": "display_data",
          "data": {
            "text/plain": [
              "<Figure size 432x288 with 1 Axes>"
            ],
            "image/png": "[encoded data removed]"
          },
          "metadata": {
            "needs_background": "light"
          }
        }
      ]
    },
    {
      "cell_type": "code",
      "source": [
        "plt.figure(figsize=(8,6))\n",
        "sns.countplot(x='OverallQual',hue='AboveMedianPrice',data=df_visual, palette='Blues')"
      ],
      "metadata": {
        "colab": {
          "base_uri": "https://localhost:8080/",
          "height": 406
        },
        "id": "z9WRO-nYrOZV",
        "outputId": "2971aa74-a9d3-4cfc-92bf-a5fbca3868c9"
      },
      "execution_count": null,
      "outputs": [
        {
          "output_type": "execute_result",
          "data": {
            "text/plain": [
              "<matplotlib.axes._subplots.AxesSubplot at 0x7f6797ff6310>"
            ]
          },
          "metadata": {},
          "execution_count": 143
        },
        {
          "output_type": "display_data",
          "data": {
            "text/plain": [
              "<Figure size 576x432 with 1 Axes>"
            ],
            "image/png": "[encoded data removed]"
          },
          "metadata": {
            "needs_background": "light"
          }
        }
      ]
    },
    {
      "cell_type": "code",
      "source": [
        "# Overall Condition\n",
        "plt.figure(figsize=(8,6))\n",
        "sns.countplot(x='OverallCond',hue='AboveMedianPrice',data=df_visual, palette='Blues')"
      ],
      "metadata": {
        "colab": {
          "base_uri": "https://localhost:8080/",
          "height": 406
        },
        "id": "hqpKjHBMrvKm",
        "outputId": "264fdfc3-a7de-4f30-fa5b-e0e5823118a7"
      },
      "execution_count": null,
      "outputs": [
        {
          "output_type": "execute_result",
          "data": {
            "text/plain": [
              "<matplotlib.axes._subplots.AxesSubplot at 0x7f679d7cbf50>"
            ]
          },
          "metadata": {},
          "execution_count": 144
        },
        {
          "output_type": "display_data",
          "data": {
            "text/plain": [
              "<Figure size 576x432 with 1 Axes>"
            ],
            "image/png": "[encoded data removed]"
          },
          "metadata": {
            "needs_background": "light"
          }
        }
      ]
    },
    {
      "cell_type": "code",
      "source": [
        "# Full bath\n",
        "plt.figure(figsize=(8,6))\n",
        "sns.countplot(x='FullBath',hue='AboveMedianPrice',data=df_visual, palette='Blues')"
      ],
      "metadata": {
        "colab": {
          "base_uri": "https://localhost:8080/",
          "height": 406
        },
        "id": "s2OszuS3epFu",
        "outputId": "5210084c-1411-474d-ee26-31a0d1f7a621"
      },
      "execution_count": null,
      "outputs": [
        {
          "output_type": "execute_result",
          "data": {
            "text/plain": [
              "<matplotlib.axes._subplots.AxesSubplot at 0x7f6797f6fc90>"
            ]
          },
          "metadata": {},
          "execution_count": 145
        },
        {
          "output_type": "display_data",
          "data": {
            "text/plain": [
              "<Figure size 576x432 with 1 Axes>"
            ],
            "image/png": "[encoded data removed]"
          },
          "metadata": {
            "needs_background": "light"
          }
        }
      ]
    },
    {
      "cell_type": "code",
      "source": [
        "# Half Bath\n",
        "plt.figure(figsize=(8,6))\n",
        "sns.countplot(x='HalfBath',hue='AboveMedianPrice',data=df_visual, palette='Blues')"
      ],
      "metadata": {
        "colab": {
          "base_uri": "https://localhost:8080/",
          "height": 406
        },
        "id": "GMsYiCAYepJm",
        "outputId": "17a977bc-fcfc-4db3-f414-75a3ab6165ef"
      },
      "execution_count": null,
      "outputs": [
        {
          "output_type": "execute_result",
          "data": {
            "text/plain": [
              "<matplotlib.axes._subplots.AxesSubplot at 0x7f679dab02d0>"
            ]
          },
          "metadata": {},
          "execution_count": 146
        },
        {
          "output_type": "display_data",
          "data": {
            "text/plain": [
              "<Figure size 576x432 with 1 Axes>"
            ],
            "image/png": "[encoded data removed]"
          },
          "metadata": {
            "needs_background": "light"
          }
        }
      ]
    },
    {
      "cell_type": "code",
      "source": [
        "# Bed room above ground\n",
        "plt.figure(figsize=(8,6))\n",
        "sns.countplot(x='BedroomAbvGr',hue='AboveMedianPrice',data=df_visual, palette='Blues')"
      ],
      "metadata": {
        "colab": {
          "base_uri": "https://localhost:8080/",
          "height": 406
        },
        "id": "_eBznhf5r7Ag",
        "outputId": "6986157e-7818-4fdd-e87f-8136b64b5df7"
      },
      "execution_count": null,
      "outputs": [
        {
          "output_type": "execute_result",
          "data": {
            "text/plain": [
              "<matplotlib.axes._subplots.AxesSubplot at 0x7f67992a4450>"
            ]
          },
          "metadata": {},
          "execution_count": 147
        },
        {
          "output_type": "display_data",
          "data": {
            "text/plain": [
              "<Figure size 576x432 with 1 Axes>"
            ],
            "image/png": "[encoded data removed]"
          },
          "metadata": {
            "needs_background": "light"
          }
        }
      ]
    },
    {
      "cell_type": "code",
      "source": [
        "# Total number of rooms above ground\n",
        "plt.figure(figsize=(8,6))\n",
        "sns.countplot(x='TotRmsAbvGrd',hue='AboveMedianPrice',data=df_visual, palette='Blues')"
      ],
      "metadata": {
        "colab": {
          "base_uri": "https://localhost:8080/",
          "height": 406
        },
        "id": "VO9RG6Mlr7C4",
        "outputId": "cd55d6a0-2a13-42c5-944d-4237faea4fa5"
      },
      "execution_count": null,
      "outputs": [
        {
          "output_type": "execute_result",
          "data": {
            "text/plain": [
              "<matplotlib.axes._subplots.AxesSubplot at 0x7f67991d81d0>"
            ]
          },
          "metadata": {},
          "execution_count": 148
        },
        {
          "output_type": "display_data",
          "data": {
            "text/plain": [
              "<Figure size 576x432 with 1 Axes>"
            ],
            "image/png": "[encoded data removed]"
          },
          "metadata": {
            "needs_background": "light"
          }
        }
      ]
    },
    {
      "cell_type": "code",
      "source": [
        "# Fireplaces\n",
        "plt.figure(figsize=(8,6))\n",
        "sns.countplot(x='Fireplaces',hue='AboveMedianPrice',data=df_visual, palette='Blues')"
      ],
      "metadata": {
        "colab": {
          "base_uri": "https://localhost:8080/",
          "height": 406
        },
        "id": "KnQi1ghjr7Ew",
        "outputId": "82530368-c6e3-41fc-ab38-548efc1141c1"
      },
      "execution_count": null,
      "outputs": [
        {
          "output_type": "execute_result",
          "data": {
            "text/plain": [
              "<matplotlib.axes._subplots.AxesSubplot at 0x7f6797ede490>"
            ]
          },
          "metadata": {},
          "execution_count": 149
        },
        {
          "output_type": "display_data",
          "data": {
            "text/plain": [
              "<Figure size 576x432 with 1 Axes>"
            ],
            "image/png": "[encoded data removed]"
          },
          "metadata": {
            "needs_background": "light"
          }
        }
      ]
    },
    {
      "cell_type": "code",
      "source": [
        "# Density charts\n",
        "plt.figure(figsize=(15,12))\n",
        "def density(list_variables):\n",
        "  x=1\n",
        "  for i in list_variables:\n",
        "    plt.subplot(3,4,x)\n",
        "    sns.distplot(df_visual[i])\n",
        "    x+=1\n",
        "\n",
        "density(df1.columns[:-1])\n"
      ],
      "metadata": {
        "id": "uJaUZFVUwYv5",
        "colab": {
          "base_uri": "https://localhost:8080/",
          "height": 714
        },
        "outputId": "0f22c3c1-8c3c-44b6-fbfb-446fe7894832"
      },
      "execution_count": null,
      "outputs": [
        {
          "output_type": "display_data",
          "data": {
            "text/plain": [
              "<Figure size 1080x864 with 10 Axes>"
            ],
            "image/png": "[encoded data removed]"
          },
          "metadata": {
            "needs_background": "light"
          }
        }
      ]
    },
    {
      "cell_type": "markdown",
      "source": [
        "**Correlation**"
      ],
      "metadata": {
        "id": "RycZF_9lhEqS"
      }
    },
    {
      "cell_type": "code",
      "source": [
        "# Convert to vector column first\n",
        "assembler = VectorAssembler(inputCols=df1.columns, outputCol=\"features\")\n",
        "df_vector = assembler.transform(df1).select(\"features\")\n",
        "\n",
        "# Get correlation matrix\n",
        "matrix = Correlation.corr(df_vector, 'features')\n",
        "corrmatrix = matrix.collect()[0][0].toArray().tolist()\n",
        "\n",
        "#Converst to pandas dataframe\n",
        "df_corr = pd.DataFrame(corrmatrix, columns = df1.columns, index = df1.columns)\n",
        "\n",
        "#plot correlation matrix by using seaborn\n",
        "sns.heatmap(df_corr)"
      ],
      "metadata": {
        "colab": {
          "base_uri": "https://localhost:8080/",
          "height": 369
        },
        "id": "8LVOElkNhE5D",
        "outputId": "1341f8d3-10b4-46e5-e5c4-a3c1f36c96b0"
      },
      "execution_count": null,
      "outputs": [
        {
          "output_type": "execute_result",
          "data": {
            "text/plain": [
              "<matplotlib.axes._subplots.AxesSubplot at 0x7f67976fc550>"
            ]
          },
          "metadata": {},
          "execution_count": 151
        },
        {
          "output_type": "display_data",
          "data": {
            "text/plain": [
              "<Figure size 432x288 with 2 Axes>"
            ],
            "image/png": "[encoded data removed]"
          },
          "metadata": {
            "needs_background": "light"
          }
        }
      ]
    },
    {
      "cell_type": "code",
      "source": [
        "# Feature importances\n",
        "df_corr = pd.DataFrame(df_corr.iloc[:-1,-1])\n",
        "df_corr = df_corr.reset_index()\n",
        "df_corr.columns = ['Features', 'AboveMedianPrice']\n",
        "print(df_corr)"
      ],
      "metadata": {
        "colab": {
          "base_uri": "https://localhost:8080/"
        },
        "id": "SqMQVGlsZASI",
        "outputId": "90c75f67-a784-4ab5-cab6-02e08f923fa6"
      },
      "execution_count": null,
      "outputs": [
        {
          "output_type": "stream",
          "name": "stdout",
          "text": [
            "       Features  AboveMedianPrice\n",
            "0       LotArea          0.189180\n",
            "1   OverallQual          0.672486\n",
            "2   OverallCond         -0.141429\n",
            "3   TotalBsmtSF          0.438301\n",
            "4      FullBath          0.615951\n",
            "5      HalfBath          0.308644\n",
            "6  BedroomAbvGr          0.144853\n",
            "7  TotRmsAbvGrd          0.417355\n",
            "8    Fireplaces          0.420297\n",
            "9    GarageArea          0.505068\n"
          ]
        }
      ]
    },
    {
      "cell_type": "code",
      "source": [
        "df_corr.sort_values(by = ['AboveMedianPrice'], ascending=False).plot(figsize=(10,8), x=\"Features\", y = \"AboveMedianPrice\", kind=\"barh\")"
      ],
      "metadata": {
        "colab": {
          "base_uri": "https://localhost:8080/",
          "height": 501
        },
        "id": "kL5D6-vXcpwe",
        "outputId": "ad18847f-c6b6-4bd2-d5f2-4ba2cc01c70c"
      },
      "execution_count": null,
      "outputs": [
        {
          "output_type": "execute_result",
          "data": {
            "text/plain": [
              "<matplotlib.axes._subplots.AxesSubplot at 0x7f67975e4ed0>"
            ]
          },
          "metadata": {},
          "execution_count": 153
        },
        {
          "output_type": "display_data",
          "data": {
            "text/plain": [
              "<Figure size 720x576 with 1 Axes>"
            ],
            "image/png": "[encoded data removed]"
          },
          "metadata": {
            "needs_background": "light"
          }
        }
      ]
    },
    {
      "cell_type": "markdown",
      "source": [
        "**Scaling data set**"
      ],
      "metadata": {
        "id": "gQKq1bHcis4z"
      }
    },
    {
      "cell_type": "code",
      "source": [
        "# Assembling features\n",
        "feature_assembly = VectorAssembler(inputCols = ['LotArea','OverallQual', 'OverallCond', 'TotalBsmtSF', 'FullBath', 'HalfBath', 'BedroomAbvGr', 'TotRmsAbvGrd', 'Fireplaces', 'GarageArea'], outputCol = 'features')\n",
        "output = feature_assembly.transform(df1)\n",
        "output.show(3)\n",
        "\n",
        "# Normalizing the features\n",
        "scaler = StandardScaler(inputCol=\"features\", outputCol=\"scaledFeatures\",\n",
        "                        withStd=True, withMean=False)\n",
        "\n",
        "# Compute summary statistics by fitting the StandardScaler\n",
        "scalerModel = scaler.fit(output)\n",
        "\n",
        "# Normalize each feature to have unit standard deviation.\n",
        "scaledOutput = scalerModel.transform(output)\n",
        "scaledOutput.show(3)"
      ],
      "metadata": {
        "colab": {
          "base_uri": "https://localhost:8080/"
        },
        "id": "AXrPSc6uitIY",
        "outputId": "0d5c8495-3270-4fcb-9fba-ef2c178a8a7e"
      },
      "execution_count": null,
      "outputs": [
        {
          "output_type": "stream",
          "name": "stdout",
          "text": [
            "+-------+-----------+-----------+-----------+--------+--------+------------+------------+----------+----------+----------------+--------------------+\n",
            "|LotArea|OverallQual|OverallCond|TotalBsmtSF|FullBath|HalfBath|BedroomAbvGr|TotRmsAbvGrd|Fireplaces|GarageArea|AboveMedianPrice|            features|\n",
            "+-------+-----------+-----------+-----------+--------+--------+------------+------------+----------+----------+----------------+--------------------+\n",
            "|   8450|          7|          5|        856|       2|       1|           3|           8|         0|       548|               1|[8450.0,7.0,5.0,8...|\n",
            "|   9600|          6|          8|       1262|       2|       0|           3|           6|         1|       460|               1|[9600.0,6.0,8.0,1...|\n",
            "|  11250|          7|          5|        920|       2|       1|           3|           6|         1|       608|               1|[11250.0,7.0,5.0,...|\n",
            "+-------+-----------+-----------+-----------+--------+--------+------------+------------+----------+----------+----------------+--------------------+\n",
            "only showing top 3 rows\n",
            "\n",
            "+-------+-----------+-----------+-----------+--------+--------+------------+------------+----------+----------+----------------+--------------------+--------------------+\n",
            "|LotArea|OverallQual|OverallCond|TotalBsmtSF|FullBath|HalfBath|BedroomAbvGr|TotRmsAbvGrd|Fireplaces|GarageArea|AboveMedianPrice|            features|      scaledFeatures|\n",
            "+-------+-----------+-----------+-----------+--------+--------+------------+------------+----------+----------+----------------+--------------------+--------------------+\n",
            "|   8450|          7|          5|        856|       2|       1|           3|           8|         0|       548|               1|[8450.0,7.0,5.0,8...|[0.84658608475447...|\n",
            "|   9600|          6|          8|       1262|       2|       0|           3|           6|         1|       460|               1|[9600.0,6.0,8.0,1...|[0.96180194244295...|\n",
            "|  11250|          7|          5|        920|       2|       1|           3|           6|         1|       608|               1|[11250.0,7.0,5.0,...|[1.12711165130033...|\n",
            "+-------+-----------+-----------+-----------+--------+--------+------------+------------+----------+----------+----------------+--------------------+--------------------+\n",
            "only showing top 3 rows\n",
            "\n"
          ]
        }
      ]
    },
    {
      "cell_type": "markdown",
      "source": [
        "**Train-test split**"
      ],
      "metadata": {
        "id": "E0z26QLDCMV-"
      }
    },
    {
      "cell_type": "code",
      "source": [
        "df_model_final = scaledOutput.select(['scaledFeatures', 'AboveMedianPrice'])\n",
        "df_model_final=df_model_final.withColumnRenamed(\"AboveMedianPrice\",\"label\")\n",
        "df_model_final.show()"
      ],
      "metadata": {
        "id": "QsEx0y3FCO7q",
        "colab": {
          "base_uri": "https://localhost:8080/"
        },
        "outputId": "07086a20-638d-46a1-b804-aa53f1d3ac4b"
      },
      "execution_count": null,
      "outputs": [
        {
          "output_type": "stream",
          "name": "stdout",
          "text": [
            "+--------------------+-----+\n",
            "|      scaledFeatures|label|\n",
            "+--------------------+-----+\n",
            "|[0.84658608475447...|    1|\n",
            "|[0.96180194244295...|    1|\n",
            "|[1.12711165130033...|    1|\n",
            "|[0.95679255732606...|    0|\n",
            "|[1.42867663533713...|    1|\n",
            "|[1.41414941849815...|    0|\n",
            "|[1.01029279037445...|    1|\n",
            "|[1.04014872567111...|    1|\n",
            "|[0.61314873830738...|    0|\n",
            "|[0.74339275134653...|    0|\n",
            "|[1.12210226618344...|    0|\n",
            "|[1.19463816267601...|    1|\n",
            "|[1.29923412391668...|    0|\n",
            "|[1.06719940530232...|    1|\n",
            "|[1.09404970952885...|    0|\n",
            "|[0.61314873830738...|    0|\n",
            "|[1.12620996197929...|    0|\n",
            "|[1.08112549592728...|    0|\n",
            "|[1.37207058351627...|    0|\n",
            "|[0.75741902967382...|    0|\n",
            "+--------------------+-----+\n",
            "only showing top 20 rows\n",
            "\n"
          ]
        }
      ]
    },
    {
      "cell_type": "code",
      "source": [
        "df_model_final.show(truncate=False)"
      ],
      "metadata": {
        "colab": {
          "base_uri": "https://localhost:8080/"
        },
        "id": "PWH1GgN9q1mS",
        "outputId": "6df9bd79-a35b-471b-9a7f-bba0815d6e6c"
      },
      "execution_count": null,
      "outputs": [
        {
          "output_type": "stream",
          "name": "stdout",
          "text": [
            "+-----------------------------------------------------------------------------------------------------------------------------------------------------------------------------------------+-----+\n",
            "|scaledFeatures                                                                                                                                                                           |label|\n",
            "+-----------------------------------------------------------------------------------------------------------------------------------------------------------------------------------------+-----+\n",
            "|[0.8465860847544746,5.061473231073745,4.493173059188071,1.9511958307200363,3.6303188169538245,1.988524696873785,3.67747087769085,4.921885703813485,0.0,2.56308508392449]                 |1    |\n",
            "|[0.9618019424429534,4.338405626634639,7.189076894700913,2.8766461896830444,3.6303188169538245,0.0,3.67747087769085,3.691414277860114,1.5511899196736965,2.1514947784767617]              |1    |\n",
            "|[1.127111651300336,5.061473231073745,4.493173059188071,2.0970796311477025,3.6303188169538245,1.988524696873785,3.67747087769085,3.691414277860114,1.5511899196736965,2.84371483763885]   |1    |\n",
            "|[0.956792557326063,5.061473231073745,4.493173059188071,1.7232523925518077,1.8151594084769123,0.0,3.67747087769085,4.3066499908367994,1.5511899196736965,3.0027383647436543]              |0    |\n",
            "|[1.428676635337137,5.784540835512852,4.493173059188071,2.609952367026217,3.6303188169538245,1.988524696873785,4.9032945035878,5.537121416790171,1.5511899196736965,3.910107901753419]    |1    |\n",
            "|[1.414149418498155,3.615338022195532,4.493173059188071,1.8144297678190993,1.8151594084769123,1.988524696873785,1.22582362589695,3.0761785648834286,0.0,2.2450380297148818]               |0    |\n",
            "|[1.0102927903744523,5.784540835512852,4.493173059188071,3.843126367516333,3.6303188169538245,0.0,3.67747087769085,4.3066499908367994,1.5511899196736965,2.9746753893722184]              |1    |\n",
            "|[1.040148725671119,5.061473231073745,5.391807671025685,2.52333386052229,3.6303188169538245,1.988524696873785,3.67747087769085,4.3066499908367994,3.102379839347393,2.2637466799625057]   |1    |\n",
            "|[0.6131487383073828,5.061473231073745,4.493173059188071,2.170021531361536,3.6303188169538245,0.0,2.4516472517939,4.921885703813485,3.102379839347393,2.18891207897201]                   |0    |\n",
            "|[0.7433927513465327,3.615338022195532,5.391807671025685,2.258919472247145,1.8151594084769123,0.0,2.4516472517939,3.0761785648834286,3.102379839347393,0.9588183251907307]                |0    |\n",
            "|[1.1221022661834457,3.615338022195532,4.493173059188071,2.370611756949577,1.8151594084769123,0.0,3.67747087769085,3.0761785648834286,0.0,1.7960304237719056]                             |0    |\n",
            "|[1.1946381626760183,6.507608439951958,4.493173059188071,2.6783353984766856,5.445478225430737,0.0,4.9032945035878,6.767592842743542,3.102379839347393,3.442391645562819]                  |1    |\n",
            "|[1.2992341239166896,3.615338022195532,5.391807671025685,2.0788441560942443,1.8151594084769123,0.0,2.4516472517939,2.4609428519067427,0.0,1.6463612217909134]                             |0    |\n",
            "|[1.067199405302327,5.061473231073745,4.493173059188071,3.4054749662333346,3.6303188169538245,0.0,3.67747087769085,4.3066499908367994,1.5511899196736965,3.9288165520010434]              |1    |\n",
            "|[1.0940497095288595,4.338405626634639,4.493173059188071,2.8561312802479035,1.8151594084769123,1.988524696873785,2.4516472517939,3.0761785648834286,1.5511899196736965,1.6463612217909134]|0    |\n",
            "|[0.6131487383073828,5.061473231073745,7.189076894700913,1.8964894055596615,1.8151594084769123,0.0,2.4516472517939,3.0761785648834286,0.0,2.6940456356578584]                             |0    |\n",
            "|[1.1262099619792958,4.338405626634639,6.2904422828632995,2.288552119209015,1.8151594084769123,0.0,2.4516472517939,3.0761785648834286,1.5511899196736965,2.2450380297148818]              |0    |\n",
            "|[1.0811254959272822,2.892270417756426,4.493173059188071,0.0,3.6303188169538245,0.0,2.4516472517939,3.691414277860114,0.0,2.413415881943498]                                              |0    |\n",
            "|[1.3720705835162756,3.615338022195532,4.493173059188071,2.539289901194066,1.8151594084769123,1.988524696873785,3.67747087769085,3.691414277860114,0.0,2.6940456356578584]                |0    |\n",
            "|[0.7574190296738258,3.615338022195532,5.391807671025685,2.345537978751072,1.8151594084769123,0.0,3.67747087769085,3.691414277860114,0.0,1.375085793200365]                               |0    |\n",
            "+-----------------------------------------------------------------------------------------------------------------------------------------------------------------------------------------+-----+\n",
            "only showing top 20 rows\n",
            "\n"
          ]
        }
      ]
    },
    {
      "cell_type": "code",
      "source": [
        "df_train, df_test = df_model_final.randomSplit([0.8, 0.2], seed=10)"
      ],
      "metadata": {
        "id": "P8r2k6zosPtb"
      },
      "execution_count": null,
      "outputs": []
    },
    {
      "cell_type": "code",
      "source": [
        "print(\"Training Dataset Count: \" + str(df_train.count()))\n",
        "print(\"Test Dataset Count: \" + str(df_test.count()))"
      ],
      "metadata": {
        "colab": {
          "base_uri": "https://localhost:8080/"
        },
        "id": "1kf_rwODvgkk",
        "outputId": "d2e839f1-9cb1-4c78-8922-05a84c2a9dab"
      },
      "execution_count": null,
      "outputs": [
        {
          "output_type": "stream",
          "name": "stdout",
          "text": [
            "Training Dataset Count: 1157\n",
            "Test Dataset Count: 303\n"
          ]
        }
      ]
    },
    {
      "cell_type": "markdown",
      "source": [
        "**Case 1: Default Threshold (50%)**"
      ],
      "metadata": {
        "id": "w5TMcTv7rSOa"
      }
    },
    {
      "cell_type": "markdown",
      "source": [
        "**Logistic Regression**"
      ],
      "metadata": {
        "id": "so3rTx-W5qHg"
      }
    },
    {
      "cell_type": "code",
      "source": [
        "lr = LogisticRegression(featuresCol = 'scaledFeatures', labelCol = 'label', maxIter=10)\n",
        "lrModel = lr.fit(df_train)"
      ],
      "metadata": {
        "id": "FTlE1PiD5q_D"
      },
      "execution_count": null,
      "outputs": []
    },
    {
      "cell_type": "code",
      "source": [
        "beta = np.sort(lrModel.coefficients)\n",
        "plt.plot(beta)\n",
        "plt.ylabel('Beta Coefficients')\n",
        "plt.show()"
      ],
      "metadata": {
        "colab": {
          "base_uri": "https://localhost:8080/",
          "height": 265
        },
        "id": "jddf8xzSxx-g",
        "outputId": "3898a1ed-7d3d-40e8-fb5f-03a6af8fca37"
      },
      "execution_count": null,
      "outputs": [
        {
          "output_type": "display_data",
          "data": {
            "text/plain": [
              "<Figure size 432x288 with 1 Axes>"
            ],
            "image/png": "[encoded data removed]"
          },
          "metadata": {
            "needs_background": "light"
          }
        }
      ]
    },
    {
      "cell_type": "code",
      "source": [
        "# ROC plot\n",
        "trainingSummary = lrModel.summary\n",
        "roc = trainingSummary.roc.toPandas()\n",
        "plt.plot(roc['FPR'],roc['TPR'])\n",
        "plt.ylabel('False Positive Rate')\n",
        "plt.xlabel('True Positive Rate')\n",
        "plt.title('ROC Curve')\n",
        "plt.show()\n",
        "print('Training set areaUnderROC: ' + str(trainingSummary.areaUnderROC))"
      ],
      "metadata": {
        "colab": {
          "base_uri": "https://localhost:8080/",
          "height": 313
        },
        "id": "hlg1xZJsxyAc",
        "outputId": "df088cf8-af31-4845-ef6d-ccc7cad6f7c6"
      },
      "execution_count": null,
      "outputs": [
        {
          "output_type": "display_data",
          "data": {
            "text/plain": [
              "<Figure size 432x288 with 1 Axes>"
            ],
            "image/png": "[encoded data removed]"
          },
          "metadata": {
            "needs_background": "light"
          }
        },
        {
          "output_type": "stream",
          "name": "stdout",
          "text": [
            "Training set areaUnderROC: 0.9669630904570672\n"
          ]
        }
      ]
    },
    {
      "cell_type": "code",
      "source": [
        "# Precision and Recall\n",
        "pr = trainingSummary.pr.toPandas()\n",
        "plt.plot(pr['recall'],pr['precision'])\n",
        "plt.ylabel('Precision')\n",
        "plt.xlabel('Recall')\n",
        "plt.show()"
      ],
      "metadata": {
        "colab": {
          "base_uri": "https://localhost:8080/",
          "height": 279
        },
        "id": "A00eLMO1xyEE",
        "outputId": "4b23a345-ae02-4759-bc48-fcd96eae47db"
      },
      "execution_count": null,
      "outputs": [
        {
          "output_type": "display_data",
          "data": {
            "text/plain": [
              "<Figure size 432x288 with 1 Axes>"
            ],
            "image/png": "[encoded data removed]"
          },
          "metadata": {
            "needs_background": "light"
          }
        }
      ]
    },
    {
      "cell_type": "code",
      "source": [
        "# Make predictions on the test set\n",
        "predictions_lr = lrModel.transform(df_test)\n",
        "predictions_lr.select('scaledFeatures', 'label', 'rawPrediction', 'prediction', 'probability').show(10)"
      ],
      "metadata": {
        "colab": {
          "base_uri": "https://localhost:8080/"
        },
        "id": "VS99-MVAyNjq",
        "outputId": "26b8efe5-ce6d-4640-e144-532775c35544"
      },
      "execution_count": null,
      "outputs": [
        {
          "output_type": "stream",
          "name": "stdout",
          "text": [
            "+--------------------+-----+--------------------+----------+--------------------+\n",
            "|      scaledFeatures|label|       rawPrediction|prediction|         probability|\n",
            "+--------------------+-----+--------------------+----------+--------------------+\n",
            "|[0.14797723635294...|    0|[7.74590062915476...|       0.0|[0.99956767504748...|\n",
            "|[0.15288643376749...|    0|[6.49438844323838...|       0.0|[0.99849038284647...|\n",
            "|[0.15989957293114...|    0|[7.68840401136296...|       0.0|[0.99954210104258...|\n",
            "|[0.16831533992751...|    0|[4.02710210318508...|       0.0|[0.98248628512213...|\n",
            "|[0.16831533992751...|    0|[3.89036308004305...|       0.0|[0.97997141853921...|\n",
            "|[0.16831533992751...|    0|[2.81690871894911...|       0.0|[0.94358272952814...|\n",
            "|[0.22722570890214...|    1|[0.25004212903189...|       0.0|[0.56218687024925...|\n",
            "|[0.22842796133020...|    1|[-0.5442316063137...|       1.0|[0.36720375301300...|\n",
            "|[0.23123321699566...|    0|[-0.7073405439006...|       1.0|[0.33018674885061...|\n",
            "|[0.23724447913592...|    0|[3.47676712959218...|       0.0|[0.97001944548707...|\n",
            "+--------------------+-----+--------------------+----------+--------------------+\n",
            "only showing top 10 rows\n",
            "\n"
          ]
        }
      ]
    },
    {
      "cell_type": "code",
      "source": [
        "# Evaluate Logistic Regression model\n",
        "evaluator = BinaryClassificationEvaluator()\n",
        "print('Test Area Under ROC', evaluator.evaluate(predictions_lr))"
      ],
      "metadata": {
        "colab": {
          "base_uri": "https://localhost:8080/"
        },
        "id": "LSYaQSvEyqAD",
        "outputId": "8a99a80a-8506-45cf-a2f4-56e8b8c6c41e"
      },
      "execution_count": null,
      "outputs": [
        {
          "output_type": "stream",
          "name": "stdout",
          "text": [
            "Test Area Under ROC 0.9723335657023353\n"
          ]
        }
      ]
    },
    {
      "cell_type": "code",
      "source": [
        "predictions_lr.groupBy('label', 'prediction').count().show()\n",
        "\n",
        "# Calculate the elements of the confusion matrix\n",
        "TN_lr = predictions_lr.filter('prediction = 0 AND label = prediction').count()\n",
        "TP_lr = predictions_lr.filter('prediction = 1 AND label = prediction').count()\n",
        "FN_lr = predictions_lr.filter('prediction = 0 AND label = 1').count()\n",
        "FP_lr = predictions_lr.filter('prediction = 1 AND label = 0').count()\n",
        "\n",
        "# Accuracy measures the proportion of correct predictions\n",
        "accuracy_lr = (TN_lr + TP_lr) / (TN_lr + TP_lr + FN_lr + FP_lr)\n",
        "print('Accuracy of Logistic Regression model', accuracy_lr)\n",
        "\n",
        "# Calculate precision and recall\n",
        "precision_lr = TP_lr / (TP_lr + FP_lr)\n",
        "recall_lr = TP_lr / (TP_lr + FN_lr)\n",
        "print('Precision {:.2f}\\nRecall {:.2f}'.format(precision_lr, recall_lr))"
      ],
      "metadata": {
        "colab": {
          "base_uri": "https://localhost:8080/"
        },
        "id": "2K3HSF0U5DOG",
        "outputId": "a409ee33-00c3-407e-c443-81ff41b1d82b"
      },
      "execution_count": null,
      "outputs": [
        {
          "output_type": "stream",
          "name": "stdout",
          "text": [
            "+-----+----------+-----+\n",
            "|label|prediction|count|\n",
            "+-----+----------+-----+\n",
            "|    1|       0.0|   11|\n",
            "|    0|       0.0|  137|\n",
            "|    1|       1.0|  141|\n",
            "|    0|       1.0|   14|\n",
            "+-----+----------+-----+\n",
            "\n",
            "Accuracy of Logistic Regression model 0.9174917491749175\n",
            "Precision 0.91\n",
            "Recall 0.93\n"
          ]
        }
      ]
    },
    {
      "cell_type": "code",
      "source": [
        "# Draw confusion matrix of Logistic Regression model\n",
        "cf_lr = predictions_lr.select(['label', 'prediction']).toPandas()\n",
        "confusion_matrix_lr = metrics.confusion_matrix(cf_lr['label'], cf_lr['prediction'])\n",
        "\n",
        "cm_display_lr = metrics.ConfusionMatrixDisplay(confusion_matrix = confusion_matrix_lr, display_labels = [False, True])\n",
        "\n",
        "cm_display_lr.plot()\n",
        "plt.show()"
      ],
      "metadata": {
        "colab": {
          "base_uri": "https://localhost:8080/",
          "height": 282
        },
        "id": "5XzuJ4Yq9pPM",
        "outputId": "dd26b56f-eb84-4da8-cb08-42e57a86367b"
      },
      "execution_count": null,
      "outputs": [
        {
          "output_type": "display_data",
          "data": {
            "text/plain": [
              "<Figure size 432x288 with 2 Axes>"
            ],
            "image/png": "[encoded data removed]"
          },
          "metadata": {
            "needs_background": "light"
          }
        }
      ]
    },
    {
      "cell_type": "code",
      "source": [
        "# Feature importance in logistic regression\n",
        "importance_lr = lrModel.coefficients\n",
        "features_importances_lr = pd.DataFrame({'FeatureName': df1.columns[0:len(df1.columns)-1], 'Logistic Regression Feature Importance': importance_lr})\n",
        "# features_importances_lr.sort_values(by=['Logistic Regression Feature Importance'], ascending=False)\n",
        "features_importances_lr.reindex(features_importances_lr['Logistic Regression Feature Importance'].abs().sort_values(ascending=False).index)"
      ],
      "metadata": {
        "id": "B1PxnIBgeAOf",
        "colab": {
          "base_uri": "https://localhost:8080/",
          "height": 363
        },
        "outputId": "2a7bd695-4443-4526-c3df-437b4fece8b5"
      },
      "execution_count": null,
      "outputs": [
        {
          "output_type": "execute_result",
          "data": {
            "text/plain": [
              "    FeatureName  Logistic Regression Feature Importance\n",
              "1   OverallQual                                1.759216\n",
              "4      FullBath                                1.166842\n",
              "0       LotArea                                1.148340\n",
              "3   TotalBsmtSF                                0.912708\n",
              "5      HalfBath                                0.722724\n",
              "9    GarageArea                                0.631584\n",
              "8    Fireplaces                                0.464054\n",
              "7  TotRmsAbvGrd                                0.448263\n",
              "6  BedroomAbvGr                               -0.409696\n",
              "2   OverallCond                                0.346602"
            ],
            "text/html": [
              "\n",
              "  <div id=\"df-ae55b453-293b-4790-bc0e-d83268c8251d\">\n",
              "    <div class=\"colab-df-container\">\n",
              "      <div>\n",
              "<style scoped>\n",
              "    .dataframe tbody tr th:only-of-type {\n",
              "        vertical-align: middle;\n",
              "    }\n",
              "\n",
              "    .dataframe tbody tr th {\n",
              "        vertical-align: top;\n",
              "    }\n",
              "\n",
              "    .dataframe thead th {\n",
              "        text-align: right;\n",
              "    }\n",
              "</style>\n",
              "<table border=\"1\" class=\"dataframe\">\n",
              "  <thead>\n",
              "    <tr style=\"text-align: right;\">\n",
              "      <th></th>\n",
              "      <th>FeatureName</th>\n",
              "      <th>Logistic Regression Feature Importance</th>\n",
              "    </tr>\n",
              "  </thead>\n",
              "  <tbody>\n",
              "    <tr>\n",
              "      <th>1</th>\n",
              "      <td>OverallQual</td>\n",
              "      <td>1.759216</td>\n",
              "    </tr>\n",
              "    <tr>\n",
              "      <th>4</th>\n",
              "      <td>FullBath</td>\n",
              "      <td>1.166842</td>\n",
              "    </tr>\n",
              "    <tr>\n",
              "      <th>0</th>\n",
              "      <td>LotArea</td>\n",
              "      <td>1.148340</td>\n",
              "    </tr>\n",
              "    <tr>\n",
              "      <th>3</th>\n",
              "      <td>TotalBsmtSF</td>\n",
              "      <td>0.912708</td>\n",
              "    </tr>\n",
              "    <tr>\n",
              "      <th>5</th>\n",
              "      <td>HalfBath</td>\n",
              "      <td>0.722724</td>\n",
              "    </tr>\n",
              "    <tr>\n",
              "      <th>9</th>\n",
              "      <td>GarageArea</td>\n",
              "      <td>0.631584</td>\n",
              "    </tr>\n",
              "    <tr>\n",
              "      <th>8</th>\n",
              "      <td>Fireplaces</td>\n",
              "      <td>0.464054</td>\n",
              "    </tr>\n",
              "    <tr>\n",
              "      <th>7</th>\n",
              "      <td>TotRmsAbvGrd</td>\n",
              "      <td>0.448263</td>\n",
              "    </tr>\n",
              "    <tr>\n",
              "      <th>6</th>\n",
              "      <td>BedroomAbvGr</td>\n",
              "      <td>-0.409696</td>\n",
              "    </tr>\n",
              "    <tr>\n",
              "      <th>2</th>\n",
              "      <td>OverallCond</td>\n",
              "      <td>0.346602</td>\n",
              "    </tr>\n",
              "  </tbody>\n",
              "</table>\n",
              "</div>\n",
              "      <button class=\"colab-df-convert\" onclick=\"convertToInteractive('df-ae55b453-293b-4790-bc0e-d83268c8251d')\"\n",
              "              title=\"Convert this dataframe to an interactive table.\"\n",
              "              style=\"display:none;\">\n",
              "        \n",
              "  <svg xmlns=\"http://www.w3.org/2000/svg\" height=\"24px\"viewBox=\"0 0 24 24\"\n",
              "       width=\"24px\">\n",
              "    <path d=\"M0 0h24v24H0V0z\" fill=\"none\"/>\n",
              "    <path d=\"M18.56 5.44l.94 2.06.94-2.06 2.06-.94-2.06-.94-.94-2.06-.94 2.06-2.06.94zm-11 1L8.5 8.5l.94-2.06 2.06-.94-2.06-.94L8.5 2.5l-.94 2.06-2.06.94zm10 10l.94 2.06.94-2.06 2.06-.94-2.06-.94-.94-2.06-.94 2.06-2.06.94z\"/><path d=\"M17.41 7.96l-1.37-1.37c-.4-.4-.92-.59-1.43-.59-.52 0-1.04.2-1.43.59L10.3 9.45l-7.72 7.72c-.78.78-.78 2.05 0 2.83L4 21.41c.39.39.9.59 1.41.59.51 0 1.02-.2 1.41-.59l7.78-7.78 2.81-2.81c.8-.78.8-2.07 0-2.86zM5.41 20L4 18.59l7.72-7.72 1.47 1.35L5.41 20z\"/>\n",
              "  </svg>\n",
              "      </button>\n",
              "      \n",
              "  <style>\n",
              "    .colab-df-container {\n",
              "      display:flex;\n",
              "      flex-wrap:wrap;\n",
              "      gap: 12px;\n",
              "    }\n",
              "\n",
              "    .colab-df-convert {\n",
              "      background-color: #E8F0FE;\n",
              "      border: none;\n",
              "      border-radius: 50%;\n",
              "      cursor: pointer;\n",
              "      display: none;\n",
              "      fill: #1967D2;\n",
              "      height: 32px;\n",
              "      padding: 0 0 0 0;\n",
              "      width: 32px;\n",
              "    }\n",
              "\n",
              "    .colab-df-convert:hover {\n",
              "      background-color: #E2EBFA;\n",
              "      box-shadow: 0px 1px 2px rgba(60, 64, 67, 0.3), 0px 1px 3px 1px rgba(60, 64, 67, 0.15);\n",
              "      fill: #174EA6;\n",
              "    }\n",
              "\n",
              "    [theme=dark] .colab-df-convert {\n",
              "      background-color: #3B4455;\n",
              "      fill: #D2E3FC;\n",
              "    }\n",
              "\n",
              "    [theme=dark] .colab-df-convert:hover {\n",
              "      background-color: #434B5C;\n",
              "      box-shadow: 0px 1px 3px 1px rgba(0, 0, 0, 0.15);\n",
              "      filter: drop-shadow(0px 1px 2px rgba(0, 0, 0, 0.3));\n",
              "      fill: #FFFFFF;\n",
              "    }\n",
              "  </style>\n",
              "\n",
              "      <script>\n",
              "        const buttonEl =\n",
              "          document.querySelector('#df-ae55b453-293b-4790-bc0e-d83268c8251d button.colab-df-convert');\n",
              "        buttonEl.style.display =\n",
              "          google.colab.kernel.accessAllowed ? 'block' : 'none';\n",
              "\n",
              "        async function convertToInteractive(key) {\n",
              "          const element = document.querySelector('#df-ae55b453-293b-4790-bc0e-d83268c8251d');\n",
              "          const dataTable =\n",
              "            await google.colab.kernel.invokeFunction('convertToInteractive',\n",
              "                                                     [key], {});\n",
              "          if (!dataTable) return;\n",
              "\n",
              "          const docLinkHtml = 'Like what you see? Visit the ' +\n",
              "            '<a target=\"_blank\" href=https://colab.research.google.com/notebooks/data_table.ipynb>data table notebook</a>'\n",
              "            + ' to learn more about interactive tables.';\n",
              "          element.innerHTML = '';\n",
              "          dataTable['output_type'] = 'display_data';\n",
              "          await google.colab.output.renderOutput(dataTable, element);\n",
              "          const docLink = document.createElement('div');\n",
              "          docLink.innerHTML = docLinkHtml;\n",
              "          element.appendChild(docLink);\n",
              "        }\n",
              "      </script>\n",
              "    </div>\n",
              "  </div>\n",
              "  "
            ]
          },
          "metadata": {},
          "execution_count": 170
        }
      ]
    },
    {
      "cell_type": "code",
      "source": [
        "features_importances_lr.sort_values(\"Logistic Regression Feature Importance\").plot(figsize=(15,8), x=\"FeatureName\", y=[\"Logistic Regression Feature Importance\"], kind=\"barh\")"
      ],
      "metadata": {
        "colab": {
          "base_uri": "https://localhost:8080/",
          "height": 501
        },
        "id": "u0IRNgbhmEVP",
        "outputId": "1e8c711a-c20b-43c7-ff47-4569c36db3bd"
      },
      "execution_count": null,
      "outputs": [
        {
          "output_type": "execute_result",
          "data": {
            "text/plain": [
              "<matplotlib.axes._subplots.AxesSubplot at 0x7f6797303350>"
            ]
          },
          "metadata": {},
          "execution_count": 171
        },
        {
          "output_type": "display_data",
          "data": {
            "text/plain": [
              "<Figure size 1080x576 with 1 Axes>"
            ],
            "image/png": "[encoded data removed]"
          },
          "metadata": {
            "needs_background": "light"
          }
        }
      ]
    },
    {
      "cell_type": "markdown",
      "source": [
        "**Random Forest Classifier**"
      ],
      "metadata": {
        "id": "kslPaByo0Djb"
      }
    },
    {
      "cell_type": "code",
      "source": [
        "rf = RandomForestClassifier(featuresCol = 'scaledFeatures', labelCol = 'label')\n",
        "rfModel = rf.fit(df_train)\n",
        "predictions_rf = rfModel.transform(df_test)\n",
        "predictions_rf.select('scaledFeatures', 'label', 'rawPrediction', 'prediction', 'probability').show(10)"
      ],
      "metadata": {
        "colab": {
          "base_uri": "https://localhost:8080/"
        },
        "id": "AiYS-7wD0DwK",
        "outputId": "1c0f72a7-5acc-488c-ccb9-17f77d1546ad"
      },
      "execution_count": null,
      "outputs": [
        {
          "output_type": "stream",
          "name": "stdout",
          "text": [
            "+--------------------+-----+--------------------+----------+--------------------+\n",
            "|      scaledFeatures|label|       rawPrediction|prediction|         probability|\n",
            "+--------------------+-----+--------------------+----------+--------------------+\n",
            "|[0.14797723635294...|    0|[19.4787615930915...|       0.0|[0.97393807965457...|\n",
            "|[0.15288643376749...|    0|[19.4787615930915...|       0.0|[0.97393807965457...|\n",
            "|[0.15989957293114...|    0|[19.4787615930915...|       0.0|[0.97393807965457...|\n",
            "|[0.16831533992751...|    0|[18.8585783674598...|       0.0|[0.94292891837299...|\n",
            "|[0.16831533992751...|    0|[18.8087957913614...|       0.0|[0.94043978956807...|\n",
            "|[0.16831533992751...|    0|[18.8585783674598...|       0.0|[0.94292891837299...|\n",
            "|[0.22722570890214...|    1|[10.2652114317905...|       0.0|[0.51326057158952...|\n",
            "|[0.22842796133020...|    1|[8.33207476792648...|       1.0|[0.41660373839632...|\n",
            "|[0.23123321699566...|    0|[9.35717138686525...|       1.0|[0.46785856934326...|\n",
            "|[0.23724447913592...|    0|[17.3586724161329...|       0.0|[0.86793362080664...|\n",
            "+--------------------+-----+--------------------+----------+--------------------+\n",
            "only showing top 10 rows\n",
            "\n"
          ]
        }
      ]
    },
    {
      "cell_type": "code",
      "source": [
        "# Evaluate Random Forest Classifier\n",
        "evaluator = BinaryClassificationEvaluator()\n",
        "print(\"Test Area Under ROC: \" + str(evaluator.evaluate(predictions_rf, {evaluator.metricName: \"areaUnderROC\"})))"
      ],
      "metadata": {
        "colab": {
          "base_uri": "https://localhost:8080/"
        },
        "id": "VveMINgb0DyK",
        "outputId": "87f82e0c-9645-4253-ee06-d1efb17bddef"
      },
      "execution_count": null,
      "outputs": [
        {
          "output_type": "stream",
          "name": "stdout",
          "text": [
            "Test Area Under ROC: 0.9779975601254791\n"
          ]
        }
      ]
    },
    {
      "cell_type": "code",
      "source": [
        "predictions_rf.groupBy('label', 'prediction').count().show()\n",
        "\n",
        "# Calculate the elements of the confusion matrix\n",
        "TN_rf = predictions_rf.filter('prediction = 0 AND label = prediction').count()\n",
        "TP_rf = predictions_rf.filter('prediction = 1 AND label = prediction').count()\n",
        "FN_rf = predictions_rf.filter('prediction = 0 AND label = 1').count()\n",
        "FP_rf = predictions_rf.filter('prediction = 1 AND label = 0').count()\n",
        "\n",
        "# Accuracy measures the proportion of correct predictions\n",
        "accuracy_rf = (TN_rf + TP_rf) / (TN_rf + TP_rf + FN_rf + FP_rf)\n",
        "print('Accuracy of Logistic Regression model', accuracy_rf)\n",
        "\n",
        "# Calculate precision and recall\n",
        "precision_rf = TP_rf / (TP_rf + FP_rf)\n",
        "recall_rf = TP_rf / (TP_rf + FN_rf)\n",
        "print('Precision {:.2f}\\nRecall {:.2f}'.format(precision_rf, recall_rf))"
      ],
      "metadata": {
        "colab": {
          "base_uri": "https://localhost:8080/"
        },
        "id": "fqQ_MCye0D0I",
        "outputId": "bd61d0be-e63d-476d-8df1-59de97d8e464"
      },
      "execution_count": null,
      "outputs": [
        {
          "output_type": "stream",
          "name": "stdout",
          "text": [
            "+-----+----------+-----+\n",
            "|label|prediction|count|\n",
            "+-----+----------+-----+\n",
            "|    1|       0.0|   16|\n",
            "|    0|       0.0|  143|\n",
            "|    1|       1.0|  136|\n",
            "|    0|       1.0|    8|\n",
            "+-----+----------+-----+\n",
            "\n",
            "Accuracy of Logistic Regression model 0.9207920792079208\n",
            "Precision 0.94\n",
            "Recall 0.89\n"
          ]
        }
      ]
    },
    {
      "cell_type": "code",
      "source": [
        "# Draw confusion matrix of Logistic Regression model\n",
        "cf_rf = predictions_rf.select(['label', 'prediction']).toPandas()\n",
        "confusion_matrix_rf = metrics.confusion_matrix(cf_rf['label'], cf_rf['prediction'])\n",
        "\n",
        "cm_display_rf = metrics.ConfusionMatrixDisplay(confusion_matrix = confusion_matrix_rf, display_labels = [False, True])\n",
        "\n",
        "cm_display_rf.plot()\n",
        "plt.show()"
      ],
      "metadata": {
        "colab": {
          "base_uri": "https://localhost:8080/",
          "height": 279
        },
        "id": "70d48sDg_AY-",
        "outputId": "14b9690b-d479-43ce-dce3-5ec96f47761b"
      },
      "execution_count": null,
      "outputs": [
        {
          "output_type": "display_data",
          "data": {
            "text/plain": [
              "<Figure size 432x288 with 2 Axes>"
            ],
            "image/png": "[encoded data removed]"
          },
          "metadata": {
            "needs_background": "light"
          }
        }
      ]
    },
    {
      "cell_type": "code",
      "source": [
        "# Feature importances\n",
        "importance_rf = rfModel.featureImportances\n",
        "features_importances_rf = pd.DataFrame(importance_rf.toArray())\n",
        "features_importances_rf.columns = [('Random Forest Feature Importance')]\n",
        "features_importances_rf.index = df1.columns[0:len(df1.columns)-1]\n",
        "features_importances_rf=features_importances_rf.reset_index()\n",
        "features_importances_rf.rename(columns = {'index':'FeatureName'}, inplace = True)\n",
        "features_importances_rf"
      ],
      "metadata": {
        "id": "VKpZQE5M4K3-",
        "colab": {
          "base_uri": "https://localhost:8080/",
          "height": 363
        },
        "outputId": "e87ec474-15b9-43e0-b805-fc395e7d5d48"
      },
      "execution_count": null,
      "outputs": [
        {
          "output_type": "execute_result",
          "data": {
            "text/plain": [
              "    FeatureName  Random Forest Feature Importance\n",
              "0       LotArea                          0.049846\n",
              "1   OverallQual                          0.298805\n",
              "2   OverallCond                          0.008957\n",
              "3   TotalBsmtSF                          0.100623\n",
              "4      FullBath                          0.242894\n",
              "5      HalfBath                          0.033304\n",
              "6  BedroomAbvGr                          0.006850\n",
              "7  TotRmsAbvGrd                          0.067352\n",
              "8    Fireplaces                          0.035412\n",
              "9    GarageArea                          0.155956"
            ],
            "text/html": [
              "\n",
              "  <div id=\"df-59eaa9b6-0585-44e8-a33e-4fa9667909f8\">\n",
              "    <div class=\"colab-df-container\">\n",
              "      <div>\n",
              "<style scoped>\n",
              "    .dataframe tbody tr th:only-of-type {\n",
              "        vertical-align: middle;\n",
              "    }\n",
              "\n",
              "    .dataframe tbody tr th {\n",
              "        vertical-align: top;\n",
              "    }\n",
              "\n",
              "    .dataframe thead th {\n",
              "        text-align: right;\n",
              "    }\n",
              "</style>\n",
              "<table border=\"1\" class=\"dataframe\">\n",
              "  <thead>\n",
              "    <tr style=\"text-align: right;\">\n",
              "      <th></th>\n",
              "      <th>FeatureName</th>\n",
              "      <th>Random Forest Feature Importance</th>\n",
              "    </tr>\n",
              "  </thead>\n",
              "  <tbody>\n",
              "    <tr>\n",
              "      <th>0</th>\n",
              "      <td>LotArea</td>\n",
              "      <td>0.049846</td>\n",
              "    </tr>\n",
              "    <tr>\n",
              "      <th>1</th>\n",
              "      <td>OverallQual</td>\n",
              "      <td>0.298805</td>\n",
              "    </tr>\n",
              "    <tr>\n",
              "      <th>2</th>\n",
              "      <td>OverallCond</td>\n",
              "      <td>0.008957</td>\n",
              "    </tr>\n",
              "    <tr>\n",
              "      <th>3</th>\n",
              "      <td>TotalBsmtSF</td>\n",
              "      <td>0.100623</td>\n",
              "    </tr>\n",
              "    <tr>\n",
              "      <th>4</th>\n",
              "      <td>FullBath</td>\n",
              "      <td>0.242894</td>\n",
              "    </tr>\n",
              "    <tr>\n",
              "      <th>5</th>\n",
              "      <td>HalfBath</td>\n",
              "      <td>0.033304</td>\n",
              "    </tr>\n",
              "    <tr>\n",
              "      <th>6</th>\n",
              "      <td>BedroomAbvGr</td>\n",
              "      <td>0.006850</td>\n",
              "    </tr>\n",
              "    <tr>\n",
              "      <th>7</th>\n",
              "      <td>TotRmsAbvGrd</td>\n",
              "      <td>0.067352</td>\n",
              "    </tr>\n",
              "    <tr>\n",
              "      <th>8</th>\n",
              "      <td>Fireplaces</td>\n",
              "      <td>0.035412</td>\n",
              "    </tr>\n",
              "    <tr>\n",
              "      <th>9</th>\n",
              "      <td>GarageArea</td>\n",
              "      <td>0.155956</td>\n",
              "    </tr>\n",
              "  </tbody>\n",
              "</table>\n",
              "</div>\n",
              "      <button class=\"colab-df-convert\" onclick=\"convertToInteractive('df-59eaa9b6-0585-44e8-a33e-4fa9667909f8')\"\n",
              "              title=\"Convert this dataframe to an interactive table.\"\n",
              "              style=\"display:none;\">\n",
              "        \n",
              "  <svg xmlns=\"http://www.w3.org/2000/svg\" height=\"24px\"viewBox=\"0 0 24 24\"\n",
              "       width=\"24px\">\n",
              "    <path d=\"M0 0h24v24H0V0z\" fill=\"none\"/>\n",
              "    <path d=\"M18.56 5.44l.94 2.06.94-2.06 2.06-.94-2.06-.94-.94-2.06-.94 2.06-2.06.94zm-11 1L8.5 8.5l.94-2.06 2.06-.94-2.06-.94L8.5 2.5l-.94 2.06-2.06.94zm10 10l.94 2.06.94-2.06 2.06-.94-2.06-.94-.94-2.06-.94 2.06-2.06.94z\"/><path d=\"M17.41 7.96l-1.37-1.37c-.4-.4-.92-.59-1.43-.59-.52 0-1.04.2-1.43.59L10.3 9.45l-7.72 7.72c-.78.78-.78 2.05 0 2.83L4 21.41c.39.39.9.59 1.41.59.51 0 1.02-.2 1.41-.59l7.78-7.78 2.81-2.81c.8-.78.8-2.07 0-2.86zM5.41 20L4 18.59l7.72-7.72 1.47 1.35L5.41 20z\"/>\n",
              "  </svg>\n",
              "      </button>\n",
              "      \n",
              "  <style>\n",
              "    .colab-df-container {\n",
              "      display:flex;\n",
              "      flex-wrap:wrap;\n",
              "      gap: 12px;\n",
              "    }\n",
              "\n",
              "    .colab-df-convert {\n",
              "      background-color: #E8F0FE;\n",
              "      border: none;\n",
              "      border-radius: 50%;\n",
              "      cursor: pointer;\n",
              "      display: none;\n",
              "      fill: #1967D2;\n",
              "      height: 32px;\n",
              "      padding: 0 0 0 0;\n",
              "      width: 32px;\n",
              "    }\n",
              "\n",
              "    .colab-df-convert:hover {\n",
              "      background-color: #E2EBFA;\n",
              "      box-shadow: 0px 1px 2px rgba(60, 64, 67, 0.3), 0px 1px 3px 1px rgba(60, 64, 67, 0.15);\n",
              "      fill: #174EA6;\n",
              "    }\n",
              "\n",
              "    [theme=dark] .colab-df-convert {\n",
              "      background-color: #3B4455;\n",
              "      fill: #D2E3FC;\n",
              "    }\n",
              "\n",
              "    [theme=dark] .colab-df-convert:hover {\n",
              "      background-color: #434B5C;\n",
              "      box-shadow: 0px 1px 3px 1px rgba(0, 0, 0, 0.15);\n",
              "      filter: drop-shadow(0px 1px 2px rgba(0, 0, 0, 0.3));\n",
              "      fill: #FFFFFF;\n",
              "    }\n",
              "  </style>\n",
              "\n",
              "      <script>\n",
              "        const buttonEl =\n",
              "          document.querySelector('#df-59eaa9b6-0585-44e8-a33e-4fa9667909f8 button.colab-df-convert');\n",
              "        buttonEl.style.display =\n",
              "          google.colab.kernel.accessAllowed ? 'block' : 'none';\n",
              "\n",
              "        async function convertToInteractive(key) {\n",
              "          const element = document.querySelector('#df-59eaa9b6-0585-44e8-a33e-4fa9667909f8');\n",
              "          const dataTable =\n",
              "            await google.colab.kernel.invokeFunction('convertToInteractive',\n",
              "                                                     [key], {});\n",
              "          if (!dataTable) return;\n",
              "\n",
              "          const docLinkHtml = 'Like what you see? Visit the ' +\n",
              "            '<a target=\"_blank\" href=https://colab.research.google.com/notebooks/data_table.ipynb>data table notebook</a>'\n",
              "            + ' to learn more about interactive tables.';\n",
              "          element.innerHTML = '';\n",
              "          dataTable['output_type'] = 'display_data';\n",
              "          await google.colab.output.renderOutput(dataTable, element);\n",
              "          const docLink = document.createElement('div');\n",
              "          docLink.innerHTML = docLinkHtml;\n",
              "          element.appendChild(docLink);\n",
              "        }\n",
              "      </script>\n",
              "    </div>\n",
              "  </div>\n",
              "  "
            ]
          },
          "metadata": {},
          "execution_count": 176
        }
      ]
    },
    {
      "cell_type": "code",
      "source": [
        "features_importances_rf.sort_values(\"Random Forest Feature Importance\").plot(figsize=(15,8), x=\"FeatureName\", y=[\"Random Forest Feature Importance\"], kind=\"barh\")"
      ],
      "metadata": {
        "colab": {
          "base_uri": "https://localhost:8080/",
          "height": 501
        },
        "id": "SeRMgPtIlP0C",
        "outputId": "4c682d69-d5e0-44cb-c989-239d61184dc9"
      },
      "execution_count": null,
      "outputs": [
        {
          "output_type": "execute_result",
          "data": {
            "text/plain": [
              "<matplotlib.axes._subplots.AxesSubplot at 0x7f67971aad10>"
            ]
          },
          "metadata": {},
          "execution_count": 177
        },
        {
          "output_type": "display_data",
          "data": {
            "text/plain": [
              "<Figure size 1080x576 with 1 Axes>"
            ],
            "image/png": "[encoded data removed]"
          },
          "metadata": {
            "needs_background": "light"
          }
        }
      ]
    },
    {
      "cell_type": "markdown",
      "source": [
        "**Comments**:\n",
        "\n",
        "Both Logistic Regression and Random Forest models give similarly high scores on the 'housepricedata' dataset. \n",
        "\n",
        "- Logistic Regression: Accuracy (91.75%), AUC (97.23%), Precision (91%), Recall (93%)\n",
        "\n",
        "- Random Forest: Accuracy (90.76%), AUC (97.24%), Precision (94%), Recall (87%)\n",
        "\n",
        "Since the purpose of this model is to predict house prices whether they are higher (TRUE) or lower (FALSE) than the Median Price (the 'AboveMedianPrice' column). Therefore, we should minimize the number of FALSE NEGATIVE (FN) forecasts. It helps the investors, or property buyers can anticipate their budget. Also, it helps the real estate agents can figure the suitable customer segment out.\n",
        "\n",
        "Based on the confusion matrixes, we see that the Logistic Regression model gives less FALSE NEGATIVE observes than the Random Forest model (11 wrong predictions of Logistic Regression are less than 20 wrong predictions of Random Forest).\n",
        "\n",
        "--> Logistic Regression model is better for this purpose."
      ],
      "metadata": {
        "id": "hz0lYuUb_jJi"
      }
    },
    {
      "cell_type": "markdown",
      "source": [
        "**Logistic Regression**"
      ],
      "metadata": {
        "id": "hnLKuOcXr6Vi"
      }
    },
    {
      "cell_type": "markdown",
      "source": [
        "**Case 2: Modifying to increase threshold to 60%**"
      ],
      "metadata": {
        "id": "SdmzMdyjr6FV"
      }
    },
    {
      "cell_type": "code",
      "source": [
        "lr1 = LogisticRegression(featuresCol = 'scaledFeatures', labelCol = 'label', maxIter=10, threshold=0.6)\n",
        "lrModel1 = lr1.fit(df_train)"
      ],
      "metadata": {
        "id": "1zWr2Hjhr6xI"
      },
      "execution_count": null,
      "outputs": []
    },
    {
      "cell_type": "code",
      "source": [
        "beta1 = np.sort(lrModel1.coefficients)\n",
        "plt.plot(beta1)\n",
        "plt.ylabel('Beta Coefficients')\n",
        "plt.show()"
      ],
      "metadata": {
        "colab": {
          "base_uri": "https://localhost:8080/",
          "height": 265
        },
        "id": "jGjniriYr6zY",
        "outputId": "7054b8c9-bcf1-4bb1-b11e-6faf4903f8f0"
      },
      "execution_count": null,
      "outputs": [
        {
          "output_type": "display_data",
          "data": {
            "text/plain": [
              "<Figure size 432x288 with 1 Axes>"
            ],
            "image/png": "[encoded data removed]"
          },
          "metadata": {
            "needs_background": "light"
          }
        }
      ]
    },
    {
      "cell_type": "code",
      "source": [
        "# ROC plot\n",
        "trainingSummary1 = lrModel1.summary\n",
        "roc1 = trainingSummary1.roc.toPandas()\n",
        "plt.plot(roc1['FPR'],roc1['TPR'])\n",
        "plt.ylabel('False Positive Rate')\n",
        "plt.xlabel('True Positive Rate')\n",
        "plt.title('ROC Curve')\n",
        "plt.show()\n",
        "print('Training set areaUnderROC: ' + str(trainingSummary1.areaUnderROC))"
      ],
      "metadata": {
        "colab": {
          "base_uri": "https://localhost:8080/",
          "height": 313
        },
        "id": "b14lcfCqr62D",
        "outputId": "887150cb-0137-4af1-adf1-4a15c66aca34"
      },
      "execution_count": null,
      "outputs": [
        {
          "output_type": "display_data",
          "data": {
            "text/plain": [
              "<Figure size 432x288 with 1 Axes>"
            ],
            "image/png": "[encoded data removed]"
          },
          "metadata": {
            "needs_background": "light"
          }
        },
        {
          "output_type": "stream",
          "name": "stdout",
          "text": [
            "Training set areaUnderROC: 0.9669630904570672\n"
          ]
        }
      ]
    },
    {
      "cell_type": "code",
      "source": [
        "# Precision and Recall\n",
        "pr1 = trainingSummary1.pr.toPandas()\n",
        "plt.plot(pr1['recall'],pr1['precision'])\n",
        "plt.ylabel('Precision')\n",
        "plt.xlabel('Recall')\n",
        "plt.show()"
      ],
      "metadata": {
        "colab": {
          "base_uri": "https://localhost:8080/",
          "height": 279
        },
        "id": "uzMPICE3r640",
        "outputId": "8b588369-b4d0-4d58-d9df-de55f7d68524"
      },
      "execution_count": null,
      "outputs": [
        {
          "output_type": "display_data",
          "data": {
            "text/plain": [
              "<Figure size 432x288 with 1 Axes>"
            ],
            "image/png": "[encoded data removed]"
          },
          "metadata": {
            "needs_background": "light"
          }
        }
      ]
    },
    {
      "cell_type": "code",
      "source": [
        "# Make predictions on the test set\n",
        "predictions_lr1 = lrModel1.transform(df_test)\n",
        "predictions_lr1.select('scaledFeatures', 'label', 'rawPrediction', 'prediction', 'probability').show(10)"
      ],
      "metadata": {
        "colab": {
          "base_uri": "https://localhost:8080/"
        },
        "id": "u4lmORz0r67p",
        "outputId": "65d0957f-bc3d-4c09-f2e3-789c215e759b"
      },
      "execution_count": null,
      "outputs": [
        {
          "output_type": "stream",
          "name": "stdout",
          "text": [
            "+--------------------+-----+--------------------+----------+--------------------+\n",
            "|      scaledFeatures|label|       rawPrediction|prediction|         probability|\n",
            "+--------------------+-----+--------------------+----------+--------------------+\n",
            "|[0.14797723635294...|    0|[7.74590062915476...|       0.0|[0.99956767504748...|\n",
            "|[0.15288643376749...|    0|[6.49438844323838...|       0.0|[0.99849038284647...|\n",
            "|[0.15989957293114...|    0|[7.68840401136296...|       0.0|[0.99954210104258...|\n",
            "|[0.16831533992751...|    0|[4.02710210318508...|       0.0|[0.98248628512213...|\n",
            "|[0.16831533992751...|    0|[3.89036308004305...|       0.0|[0.97997141853921...|\n",
            "|[0.16831533992751...|    0|[2.81690871894911...|       0.0|[0.94358272952814...|\n",
            "|[0.22722570890214...|    1|[0.25004212903189...|       0.0|[0.56218687024925...|\n",
            "|[0.22842796133020...|    1|[-0.5442316063137...|       1.0|[0.36720375301300...|\n",
            "|[0.23123321699566...|    0|[-0.7073405439006...|       1.0|[0.33018674885061...|\n",
            "|[0.23724447913592...|    0|[3.47676712959218...|       0.0|[0.97001944548707...|\n",
            "+--------------------+-----+--------------------+----------+--------------------+\n",
            "only showing top 10 rows\n",
            "\n"
          ]
        }
      ]
    },
    {
      "cell_type": "code",
      "source": [
        "# Evaluate Logistic Regression model\n",
        "evaluator1 = BinaryClassificationEvaluator()\n",
        "print('Test Area Under ROC', evaluator1.evaluate(predictions_lr1))"
      ],
      "metadata": {
        "colab": {
          "base_uri": "https://localhost:8080/"
        },
        "id": "sA8Cw3KdsvYb",
        "outputId": "eb408558-a2fc-47c3-aa79-8ce599661fda"
      },
      "execution_count": null,
      "outputs": [
        {
          "output_type": "stream",
          "name": "stdout",
          "text": [
            "Test Area Under ROC 0.9723335657023353\n"
          ]
        }
      ]
    },
    {
      "cell_type": "code",
      "source": [
        "predictions_lr1.groupBy('label', 'prediction').count().show()\n",
        "\n",
        "# Calculate the elements of the confusion matrix\n",
        "TN_lr1 = predictions_lr1.filter('prediction = 0 AND label = prediction').count()\n",
        "TP_lr1 = predictions_lr1.filter('prediction = 1 AND label = prediction').count()\n",
        "FN_lr1 = predictions_lr1.filter('prediction = 0 AND label = 1').count()\n",
        "FP_lr1 = predictions_lr1.filter('prediction = 1 AND label = 0').count()\n",
        "\n",
        "# Accuracy measures the proportion of correct predictions\n",
        "accuracy_lr1 = (TN_lr1 + TP_lr1) / (TN_lr1 + TP_lr1 + FN_lr1 + FP_lr1)\n",
        "print('Accuracy of Logistic Regression model', accuracy_lr1)\n",
        "\n",
        "# Calculate precision and recall\n",
        "precision_lr1 = TP_lr1 / (TP_lr1 + FP_lr1)\n",
        "recall_lr1 = TP_lr1 / (TP_lr1 + FN_lr1)\n",
        "print('Precision {:.2f}\\nRecall {:.2f}'.format(precision_lr1, recall_lr1))"
      ],
      "metadata": {
        "colab": {
          "base_uri": "https://localhost:8080/"
        },
        "id": "SE1l1Qlwsvgv",
        "outputId": "c9ed8023-c5ec-4226-ebd7-66c581388510"
      },
      "execution_count": null,
      "outputs": [
        {
          "output_type": "stream",
          "name": "stdout",
          "text": [
            "+-----+----------+-----+\n",
            "|label|prediction|count|\n",
            "+-----+----------+-----+\n",
            "|    1|       0.0|   18|\n",
            "|    0|       0.0|  138|\n",
            "|    1|       1.0|  134|\n",
            "|    0|       1.0|   13|\n",
            "+-----+----------+-----+\n",
            "\n",
            "Accuracy of Logistic Regression model 0.8976897689768977\n",
            "Precision 0.91\n",
            "Recall 0.88\n"
          ]
        }
      ]
    },
    {
      "cell_type": "code",
      "source": [
        "# Draw confusion matrix of Logistic Regression model\n",
        "cf_lr1 = predictions_lr1.select(['label', 'prediction']).toPandas()\n",
        "confusion_matrix_lr1 = metrics.confusion_matrix(cf_lr1['label'], cf_lr1['prediction'])\n",
        "\n",
        "cm_display_lr1 = metrics.ConfusionMatrixDisplay(confusion_matrix = confusion_matrix_lr1, display_labels = [False, True])\n",
        "\n",
        "cm_display_lr1.plot()\n",
        "plt.show()"
      ],
      "metadata": {
        "colab": {
          "base_uri": "https://localhost:8080/",
          "height": 279
        },
        "id": "lPlzKcFbsvtv",
        "outputId": "a0720977-b93d-432c-ea6b-efc17d2c84a8"
      },
      "execution_count": null,
      "outputs": [
        {
          "output_type": "display_data",
          "data": {
            "text/plain": [
              "<Figure size 432x288 with 2 Axes>"
            ],
            "image/png": "[encoded data removed]"
          },
          "metadata": {
            "needs_background": "light"
          }
        }
      ]
    },
    {
      "cell_type": "code",
      "source": [
        "# Feature importance in logistic regression\n",
        "importance_lr1 = lrModel1.coefficients\n",
        "features_importances_lr1 = pd.DataFrame({'FeatureName': df1.columns[0:len(df1.columns)-1], 'Logistic Regression Feature Importance': importance_lr1})\n",
        "# features_importances_lr.sort_values(by=['Logistic Regression Feature Importance'], ascending=False)\n",
        "features_importances_lr1.reindex(features_importances_lr1['Logistic Regression Feature Importance'].abs().sort_values(ascending=False).index)"
      ],
      "metadata": {
        "id": "4I42amQps839",
        "colab": {
          "base_uri": "https://localhost:8080/",
          "height": 363
        },
        "outputId": "a74dc759-ca2d-4e01-8da6-49308da0a174"
      },
      "execution_count": null,
      "outputs": [
        {
          "output_type": "execute_result",
          "data": {
            "text/plain": [
              "    FeatureName  Logistic Regression Feature Importance\n",
              "1   OverallQual                                1.759216\n",
              "4      FullBath                                1.166842\n",
              "0       LotArea                                1.148340\n",
              "3   TotalBsmtSF                                0.912708\n",
              "5      HalfBath                                0.722724\n",
              "9    GarageArea                                0.631584\n",
              "8    Fireplaces                                0.464054\n",
              "7  TotRmsAbvGrd                                0.448263\n",
              "6  BedroomAbvGr                               -0.409696\n",
              "2   OverallCond                                0.346602"
            ],
            "text/html": [
              "\n",
              "  <div id=\"df-96092a3e-9883-444f-b8d3-8b9fb647dc4c\">\n",
              "    <div class=\"colab-df-container\">\n",
              "      <div>\n",
              "<style scoped>\n",
              "    .dataframe tbody tr th:only-of-type {\n",
              "        vertical-align: middle;\n",
              "    }\n",
              "\n",
              "    .dataframe tbody tr th {\n",
              "        vertical-align: top;\n",
              "    }\n",
              "\n",
              "    .dataframe thead th {\n",
              "        text-align: right;\n",
              "    }\n",
              "</style>\n",
              "<table border=\"1\" class=\"dataframe\">\n",
              "  <thead>\n",
              "    <tr style=\"text-align: right;\">\n",
              "      <th></th>\n",
              "      <th>FeatureName</th>\n",
              "      <th>Logistic Regression Feature Importance</th>\n",
              "    </tr>\n",
              "  </thead>\n",
              "  <tbody>\n",
              "    <tr>\n",
              "      <th>1</th>\n",
              "      <td>OverallQual</td>\n",
              "      <td>1.759216</td>\n",
              "    </tr>\n",
              "    <tr>\n",
              "      <th>4</th>\n",
              "      <td>FullBath</td>\n",
              "      <td>1.166842</td>\n",
              "    </tr>\n",
              "    <tr>\n",
              "      <th>0</th>\n",
              "      <td>LotArea</td>\n",
              "      <td>1.148340</td>\n",
              "    </tr>\n",
              "    <tr>\n",
              "      <th>3</th>\n",
              "      <td>TotalBsmtSF</td>\n",
              "      <td>0.912708</td>\n",
              "    </tr>\n",
              "    <tr>\n",
              "      <th>5</th>\n",
              "      <td>HalfBath</td>\n",
              "      <td>0.722724</td>\n",
              "    </tr>\n",
              "    <tr>\n",
              "      <th>9</th>\n",
              "      <td>GarageArea</td>\n",
              "      <td>0.631584</td>\n",
              "    </tr>\n",
              "    <tr>\n",
              "      <th>8</th>\n",
              "      <td>Fireplaces</td>\n",
              "      <td>0.464054</td>\n",
              "    </tr>\n",
              "    <tr>\n",
              "      <th>7</th>\n",
              "      <td>TotRmsAbvGrd</td>\n",
              "      <td>0.448263</td>\n",
              "    </tr>\n",
              "    <tr>\n",
              "      <th>6</th>\n",
              "      <td>BedroomAbvGr</td>\n",
              "      <td>-0.409696</td>\n",
              "    </tr>\n",
              "    <tr>\n",
              "      <th>2</th>\n",
              "      <td>OverallCond</td>\n",
              "      <td>0.346602</td>\n",
              "    </tr>\n",
              "  </tbody>\n",
              "</table>\n",
              "</div>\n",
              "      <button class=\"colab-df-convert\" onclick=\"convertToInteractive('df-96092a3e-9883-444f-b8d3-8b9fb647dc4c')\"\n",
              "              title=\"Convert this dataframe to an interactive table.\"\n",
              "              style=\"display:none;\">\n",
              "        \n",
              "  <svg xmlns=\"http://www.w3.org/2000/svg\" height=\"24px\"viewBox=\"0 0 24 24\"\n",
              "       width=\"24px\">\n",
              "    <path d=\"M0 0h24v24H0V0z\" fill=\"none\"/>\n",
              "    <path d=\"M18.56 5.44l.94 2.06.94-2.06 2.06-.94-2.06-.94-.94-2.06-.94 2.06-2.06.94zm-11 1L8.5 8.5l.94-2.06 2.06-.94-2.06-.94L8.5 2.5l-.94 2.06-2.06.94zm10 10l.94 2.06.94-2.06 2.06-.94-2.06-.94-.94-2.06-.94 2.06-2.06.94z\"/><path d=\"M17.41 7.96l-1.37-1.37c-.4-.4-.92-.59-1.43-.59-.52 0-1.04.2-1.43.59L10.3 9.45l-7.72 7.72c-.78.78-.78 2.05 0 2.83L4 21.41c.39.39.9.59 1.41.59.51 0 1.02-.2 1.41-.59l7.78-7.78 2.81-2.81c.8-.78.8-2.07 0-2.86zM5.41 20L4 18.59l7.72-7.72 1.47 1.35L5.41 20z\"/>\n",
              "  </svg>\n",
              "      </button>\n",
              "      \n",
              "  <style>\n",
              "    .colab-df-container {\n",
              "      display:flex;\n",
              "      flex-wrap:wrap;\n",
              "      gap: 12px;\n",
              "    }\n",
              "\n",
              "    .colab-df-convert {\n",
              "      background-color: #E8F0FE;\n",
              "      border: none;\n",
              "      border-radius: 50%;\n",
              "      cursor: pointer;\n",
              "      display: none;\n",
              "      fill: #1967D2;\n",
              "      height: 32px;\n",
              "      padding: 0 0 0 0;\n",
              "      width: 32px;\n",
              "    }\n",
              "\n",
              "    .colab-df-convert:hover {\n",
              "      background-color: #E2EBFA;\n",
              "      box-shadow: 0px 1px 2px rgba(60, 64, 67, 0.3), 0px 1px 3px 1px rgba(60, 64, 67, 0.15);\n",
              "      fill: #174EA6;\n",
              "    }\n",
              "\n",
              "    [theme=dark] .colab-df-convert {\n",
              "      background-color: #3B4455;\n",
              "      fill: #D2E3FC;\n",
              "    }\n",
              "\n",
              "    [theme=dark] .colab-df-convert:hover {\n",
              "      background-color: #434B5C;\n",
              "      box-shadow: 0px 1px 3px 1px rgba(0, 0, 0, 0.15);\n",
              "      filter: drop-shadow(0px 1px 2px rgba(0, 0, 0, 0.3));\n",
              "      fill: #FFFFFF;\n",
              "    }\n",
              "  </style>\n",
              "\n",
              "      <script>\n",
              "        const buttonEl =\n",
              "          document.querySelector('#df-96092a3e-9883-444f-b8d3-8b9fb647dc4c button.colab-df-convert');\n",
              "        buttonEl.style.display =\n",
              "          google.colab.kernel.accessAllowed ? 'block' : 'none';\n",
              "\n",
              "        async function convertToInteractive(key) {\n",
              "          const element = document.querySelector('#df-96092a3e-9883-444f-b8d3-8b9fb647dc4c');\n",
              "          const dataTable =\n",
              "            await google.colab.kernel.invokeFunction('convertToInteractive',\n",
              "                                                     [key], {});\n",
              "          if (!dataTable) return;\n",
              "\n",
              "          const docLinkHtml = 'Like what you see? Visit the ' +\n",
              "            '<a target=\"_blank\" href=https://colab.research.google.com/notebooks/data_table.ipynb>data table notebook</a>'\n",
              "            + ' to learn more about interactive tables.';\n",
              "          element.innerHTML = '';\n",
              "          dataTable['output_type'] = 'display_data';\n",
              "          await google.colab.output.renderOutput(dataTable, element);\n",
              "          const docLink = document.createElement('div');\n",
              "          docLink.innerHTML = docLinkHtml;\n",
              "          element.appendChild(docLink);\n",
              "        }\n",
              "      </script>\n",
              "    </div>\n",
              "  </div>\n",
              "  "
            ]
          },
          "metadata": {},
          "execution_count": 186
        }
      ]
    },
    {
      "cell_type": "code",
      "source": [
        "features_importances_lr1.sort_values(\"Logistic Regression Feature Importance\").plot(figsize=(15,8), x=\"FeatureName\", y=[\"Logistic Regression Feature Importance\"], kind=\"barh\")"
      ],
      "metadata": {
        "colab": {
          "base_uri": "https://localhost:8080/",
          "height": 501
        },
        "id": "2o2fkmIjr9Fb",
        "outputId": "09cd86ef-b3b8-4d1c-fc5b-4284a1dd6e49"
      },
      "execution_count": null,
      "outputs": [
        {
          "output_type": "execute_result",
          "data": {
            "text/plain": [
              "<matplotlib.axes._subplots.AxesSubplot at 0x7f6796f23bd0>"
            ]
          },
          "metadata": {},
          "execution_count": 187
        },
        {
          "output_type": "display_data",
          "data": {
            "text/plain": [
              "<Figure size 1080x576 with 1 Axes>"
            ],
            "image/png": "[encoded data removed]"
          },
          "metadata": {
            "needs_background": "light"
          }
        }
      ]
    },
    {
      "cell_type": "markdown",
      "source": [
        "**Case 3: Modifying to decrease threshold to 40%**"
      ],
      "metadata": {
        "id": "HO6_Kuz-zr6X"
      }
    },
    {
      "cell_type": "code",
      "source": [
        "lr2 = LogisticRegression(featuresCol = 'scaledFeatures', labelCol = 'label', maxIter=10, threshold=0.4)\n",
        "lrModel2 = lr2.fit(df_train)"
      ],
      "metadata": {
        "id": "p59sHYN-zssC"
      },
      "execution_count": null,
      "outputs": []
    },
    {
      "cell_type": "code",
      "source": [
        "beta2 = np.sort(lrModel2.coefficients)\n",
        "plt.plot(beta2)\n",
        "plt.ylabel('Beta Coefficients')\n",
        "plt.show()"
      ],
      "metadata": {
        "colab": {
          "base_uri": "https://localhost:8080/",
          "height": 265
        },
        "id": "VWQE0b5Xzs8g",
        "outputId": "33bbfb7d-dd64-4993-ccbf-b9bed260ebcc"
      },
      "execution_count": null,
      "outputs": [
        {
          "output_type": "display_data",
          "data": {
            "text/plain": [
              "<Figure size 432x288 with 1 Axes>"
            ],
            "image/png": "[encoded data removed]"
          },
          "metadata": {
            "needs_background": "light"
          }
        }
      ]
    },
    {
      "cell_type": "code",
      "source": [
        "# ROC plot\n",
        "trainingSummary2 = lrModel2.summary\n",
        "roc2 = trainingSummary2.roc.toPandas()\n",
        "plt.plot(roc2['FPR'],roc2['TPR'])\n",
        "plt.ylabel('False Positive Rate')\n",
        "plt.xlabel('True Positive Rate')\n",
        "plt.title('ROC Curve')\n",
        "plt.show()\n",
        "print('Training set areaUnderROC: ' + str(trainingSummary2.areaUnderROC))"
      ],
      "metadata": {
        "colab": {
          "base_uri": "https://localhost:8080/",
          "height": 313
        },
        "id": "nZSuc-8jzs-q",
        "outputId": "2703bd7c-3f6c-420b-a6fe-5a0bc01f9956"
      },
      "execution_count": null,
      "outputs": [
        {
          "output_type": "display_data",
          "data": {
            "text/plain": [
              "<Figure size 432x288 with 1 Axes>"
            ],
            "image/png": "[encoded data removed]"
          },
          "metadata": {
            "needs_background": "light"
          }
        },
        {
          "output_type": "stream",
          "name": "stdout",
          "text": [
            "Training set areaUnderROC: 0.9669630904570672\n"
          ]
        }
      ]
    },
    {
      "cell_type": "code",
      "source": [
        "# Precision and Recall\n",
        "pr2 = trainingSummary2.pr.toPandas()\n",
        "plt.plot(pr2['recall'],pr2['precision'])\n",
        "plt.ylabel('Precision')\n",
        "plt.xlabel('Recall')\n",
        "plt.show()"
      ],
      "metadata": {
        "colab": {
          "base_uri": "https://localhost:8080/",
          "height": 279
        },
        "id": "AKg1WiFfztA8",
        "outputId": "c9662497-b370-4e16-d4a2-45fa04707409"
      },
      "execution_count": null,
      "outputs": [
        {
          "output_type": "display_data",
          "data": {
            "text/plain": [
              "<Figure size 432x288 with 1 Axes>"
            ],
            "image/png": "[encoded data removed]"
          },
          "metadata": {
            "needs_background": "light"
          }
        }
      ]
    },
    {
      "cell_type": "code",
      "source": [
        "# Make predictions on the test set\n",
        "predictions_lr2 = lrModel2.transform(df_test)\n",
        "predictions_lr2.select('scaledFeatures', 'label', 'rawPrediction', 'prediction', 'probability').show(10)"
      ],
      "metadata": {
        "colab": {
          "base_uri": "https://localhost:8080/"
        },
        "id": "2EGYFVmrztDT",
        "outputId": "1513a030-6d72-49bd-a099-676b0864e80b"
      },
      "execution_count": null,
      "outputs": [
        {
          "output_type": "stream",
          "name": "stdout",
          "text": [
            "+--------------------+-----+--------------------+----------+--------------------+\n",
            "|      scaledFeatures|label|       rawPrediction|prediction|         probability|\n",
            "+--------------------+-----+--------------------+----------+--------------------+\n",
            "|[0.14797723635294...|    0|[7.74590062915476...|       0.0|[0.99956767504748...|\n",
            "|[0.15288643376749...|    0|[6.49438844323838...|       0.0|[0.99849038284647...|\n",
            "|[0.15989957293114...|    0|[7.68840401136296...|       0.0|[0.99954210104258...|\n",
            "|[0.16831533992751...|    0|[4.02710210318508...|       0.0|[0.98248628512213...|\n",
            "|[0.16831533992751...|    0|[3.89036308004305...|       0.0|[0.97997141853921...|\n",
            "|[0.16831533992751...|    0|[2.81690871894911...|       0.0|[0.94358272952814...|\n",
            "|[0.22722570890214...|    1|[0.25004212903189...|       1.0|[0.56218687024925...|\n",
            "|[0.22842796133020...|    1|[-0.5442316063137...|       1.0|[0.36720375301300...|\n",
            "|[0.23123321699566...|    0|[-0.7073405439006...|       1.0|[0.33018674885061...|\n",
            "|[0.23724447913592...|    0|[3.47676712959218...|       0.0|[0.97001944548707...|\n",
            "+--------------------+-----+--------------------+----------+--------------------+\n",
            "only showing top 10 rows\n",
            "\n"
          ]
        }
      ]
    },
    {
      "cell_type": "code",
      "source": [
        "# Evaluate Logistic Regression model\n",
        "evaluator2 = BinaryClassificationEvaluator()\n",
        "print('Test Area Under ROC', evaluator2.evaluate(predictions_lr2))"
      ],
      "metadata": {
        "colab": {
          "base_uri": "https://localhost:8080/"
        },
        "id": "h33Tut_v0csQ",
        "outputId": "c90822c8-9ed1-4304-ae3e-db03b5163cba"
      },
      "execution_count": null,
      "outputs": [
        {
          "output_type": "stream",
          "name": "stdout",
          "text": [
            "Test Area Under ROC 0.9723335657023353\n"
          ]
        }
      ]
    },
    {
      "cell_type": "code",
      "source": [
        "predictions_lr2.groupBy('label', 'prediction').count().show()\n",
        "\n",
        "# Calculate the elements of the confusion matrix\n",
        "TN_lr2 = predictions_lr2.filter('prediction = 0 AND label = prediction').count()\n",
        "TP_lr2 = predictions_lr2.filter('prediction = 1 AND label = prediction').count()\n",
        "FN_lr2 = predictions_lr2.filter('prediction = 0 AND label = 1').count()\n",
        "FP_lr2 = predictions_lr2.filter('prediction = 1 AND label = 0').count()\n",
        "\n",
        "# Accuracy measures the proportion of correct predictions\n",
        "accuracy_lr2 = (TN_lr2 + TP_lr2) / (TN_lr2 + TP_lr2 + FN_lr2 + FP_lr2)\n",
        "print('Accuracy of Logistic Regression model', accuracy_lr2)\n",
        "\n",
        "# Calculate precision and recall\n",
        "precision_lr2 = TP_lr2 / (TP_lr2 + FP_lr2)\n",
        "recall_lr2 = TP_lr2 / (TP_lr2 + FN_lr2)\n",
        "print('Precision {:.2f}\\nRecall {:.2f}'.format(precision_lr2, recall_lr2))"
      ],
      "metadata": {
        "colab": {
          "base_uri": "https://localhost:8080/"
        },
        "id": "t5j-3s4R0cu8",
        "outputId": "35ed60d2-98ed-4dff-aced-3cf084acf50c"
      },
      "execution_count": null,
      "outputs": [
        {
          "output_type": "stream",
          "name": "stdout",
          "text": [
            "+-----+----------+-----+\n",
            "|label|prediction|count|\n",
            "+-----+----------+-----+\n",
            "|    1|       0.0|    8|\n",
            "|    0|       0.0|  136|\n",
            "|    1|       1.0|  144|\n",
            "|    0|       1.0|   15|\n",
            "+-----+----------+-----+\n",
            "\n",
            "Accuracy of Logistic Regression model 0.9240924092409241\n",
            "Precision 0.91\n",
            "Recall 0.95\n"
          ]
        }
      ]
    },
    {
      "cell_type": "code",
      "source": [
        "# Draw confusion matrix of Logistic Regression model\n",
        "cf_lr2 = predictions_lr2.select(['label', 'prediction']).toPandas()\n",
        "confusion_matrix_lr2 = metrics.confusion_matrix(cf_lr2['label'], cf_lr2['prediction'])\n",
        "\n",
        "cm_display_lr2 = metrics.ConfusionMatrixDisplay(confusion_matrix = confusion_matrix_lr2, display_labels = [False, True])\n",
        "\n",
        "cm_display_lr2.plot()\n",
        "plt.show()"
      ],
      "metadata": {
        "colab": {
          "base_uri": "https://localhost:8080/",
          "height": 279
        },
        "id": "gGyRg-nY0evk",
        "outputId": "7ad085ca-d4ae-4e13-ff21-014ef65aedb0"
      },
      "execution_count": null,
      "outputs": [
        {
          "output_type": "display_data",
          "data": {
            "text/plain": [
              "<Figure size 432x288 with 2 Axes>"
            ],
            "image/png": "[encoded data removed]"
          },
          "metadata": {
            "needs_background": "light"
          }
        }
      ]
    },
    {
      "cell_type": "code",
      "source": [
        "# Feature importance in logistic regression\n",
        "importance_lr2 = lrModel2.coefficients\n",
        "features_importances_lr2 = pd.DataFrame({'FeatureName': df1.columns[0:len(df1.columns)-1], 'Logistic Regression Feature Importance': importance_lr2})\n",
        "features_importances_lr2.reindex(features_importances_lr2['Logistic Regression Feature Importance'].abs().sort_values(ascending=False).index)"
      ],
      "metadata": {
        "id": "p38BdcpaztFY",
        "colab": {
          "base_uri": "https://localhost:8080/",
          "height": 363
        },
        "outputId": "fe6fc020-bd66-4247-8908-3ed13ba2c222"
      },
      "execution_count": null,
      "outputs": [
        {
          "output_type": "execute_result",
          "data": {
            "text/plain": [
              "    FeatureName  Logistic Regression Feature Importance\n",
              "1   OverallQual                                1.759216\n",
              "4      FullBath                                1.166842\n",
              "0       LotArea                                1.148340\n",
              "3   TotalBsmtSF                                0.912708\n",
              "5      HalfBath                                0.722724\n",
              "9    GarageArea                                0.631584\n",
              "8    Fireplaces                                0.464054\n",
              "7  TotRmsAbvGrd                                0.448263\n",
              "6  BedroomAbvGr                               -0.409696\n",
              "2   OverallCond                                0.346602"
            ],
            "text/html": [
              "\n",
              "  <div id=\"df-3b08fd96-0283-4e77-b8b8-84acc25e1811\">\n",
              "    <div class=\"colab-df-container\">\n",
              "      <div>\n",
              "<style scoped>\n",
              "    .dataframe tbody tr th:only-of-type {\n",
              "        vertical-align: middle;\n",
              "    }\n",
              "\n",
              "    .dataframe tbody tr th {\n",
              "        vertical-align: top;\n",
              "    }\n",
              "\n",
              "    .dataframe thead th {\n",
              "        text-align: right;\n",
              "    }\n",
              "</style>\n",
              "<table border=\"1\" class=\"dataframe\">\n",
              "  <thead>\n",
              "    <tr style=\"text-align: right;\">\n",
              "      <th></th>\n",
              "      <th>FeatureName</th>\n",
              "      <th>Logistic Regression Feature Importance</th>\n",
              "    </tr>\n",
              "  </thead>\n",
              "  <tbody>\n",
              "    <tr>\n",
              "      <th>1</th>\n",
              "      <td>OverallQual</td>\n",
              "      <td>1.759216</td>\n",
              "    </tr>\n",
              "    <tr>\n",
              "      <th>4</th>\n",
              "      <td>FullBath</td>\n",
              "      <td>1.166842</td>\n",
              "    </tr>\n",
              "    <tr>\n",
              "      <th>0</th>\n",
              "      <td>LotArea</td>\n",
              "      <td>1.148340</td>\n",
              "    </tr>\n",
              "    <tr>\n",
              "      <th>3</th>\n",
              "      <td>TotalBsmtSF</td>\n",
              "      <td>0.912708</td>\n",
              "    </tr>\n",
              "    <tr>\n",
              "      <th>5</th>\n",
              "      <td>HalfBath</td>\n",
              "      <td>0.722724</td>\n",
              "    </tr>\n",
              "    <tr>\n",
              "      <th>9</th>\n",
              "      <td>GarageArea</td>\n",
              "      <td>0.631584</td>\n",
              "    </tr>\n",
              "    <tr>\n",
              "      <th>8</th>\n",
              "      <td>Fireplaces</td>\n",
              "      <td>0.464054</td>\n",
              "    </tr>\n",
              "    <tr>\n",
              "      <th>7</th>\n",
              "      <td>TotRmsAbvGrd</td>\n",
              "      <td>0.448263</td>\n",
              "    </tr>\n",
              "    <tr>\n",
              "      <th>6</th>\n",
              "      <td>BedroomAbvGr</td>\n",
              "      <td>-0.409696</td>\n",
              "    </tr>\n",
              "    <tr>\n",
              "      <th>2</th>\n",
              "      <td>OverallCond</td>\n",
              "      <td>0.346602</td>\n",
              "    </tr>\n",
              "  </tbody>\n",
              "</table>\n",
              "</div>\n",
              "      <button class=\"colab-df-convert\" onclick=\"convertToInteractive('df-3b08fd96-0283-4e77-b8b8-84acc25e1811')\"\n",
              "              title=\"Convert this dataframe to an interactive table.\"\n",
              "              style=\"display:none;\">\n",
              "        \n",
              "  <svg xmlns=\"http://www.w3.org/2000/svg\" height=\"24px\"viewBox=\"0 0 24 24\"\n",
              "       width=\"24px\">\n",
              "    <path d=\"M0 0h24v24H0V0z\" fill=\"none\"/>\n",
              "    <path d=\"M18.56 5.44l.94 2.06.94-2.06 2.06-.94-2.06-.94-.94-2.06-.94 2.06-2.06.94zm-11 1L8.5 8.5l.94-2.06 2.06-.94-2.06-.94L8.5 2.5l-.94 2.06-2.06.94zm10 10l.94 2.06.94-2.06 2.06-.94-2.06-.94-.94-2.06-.94 2.06-2.06.94z\"/><path d=\"M17.41 7.96l-1.37-1.37c-.4-.4-.92-.59-1.43-.59-.52 0-1.04.2-1.43.59L10.3 9.45l-7.72 7.72c-.78.78-.78 2.05 0 2.83L4 21.41c.39.39.9.59 1.41.59.51 0 1.02-.2 1.41-.59l7.78-7.78 2.81-2.81c.8-.78.8-2.07 0-2.86zM5.41 20L4 18.59l7.72-7.72 1.47 1.35L5.41 20z\"/>\n",
              "  </svg>\n",
              "      </button>\n",
              "      \n",
              "  <style>\n",
              "    .colab-df-container {\n",
              "      display:flex;\n",
              "      flex-wrap:wrap;\n",
              "      gap: 12px;\n",
              "    }\n",
              "\n",
              "    .colab-df-convert {\n",
              "      background-color: #E8F0FE;\n",
              "      border: none;\n",
              "      border-radius: 50%;\n",
              "      cursor: pointer;\n",
              "      display: none;\n",
              "      fill: #1967D2;\n",
              "      height: 32px;\n",
              "      padding: 0 0 0 0;\n",
              "      width: 32px;\n",
              "    }\n",
              "\n",
              "    .colab-df-convert:hover {\n",
              "      background-color: #E2EBFA;\n",
              "      box-shadow: 0px 1px 2px rgba(60, 64, 67, 0.3), 0px 1px 3px 1px rgba(60, 64, 67, 0.15);\n",
              "      fill: #174EA6;\n",
              "    }\n",
              "\n",
              "    [theme=dark] .colab-df-convert {\n",
              "      background-color: #3B4455;\n",
              "      fill: #D2E3FC;\n",
              "    }\n",
              "\n",
              "    [theme=dark] .colab-df-convert:hover {\n",
              "      background-color: #434B5C;\n",
              "      box-shadow: 0px 1px 3px 1px rgba(0, 0, 0, 0.15);\n",
              "      filter: drop-shadow(0px 1px 2px rgba(0, 0, 0, 0.3));\n",
              "      fill: #FFFFFF;\n",
              "    }\n",
              "  </style>\n",
              "\n",
              "      <script>\n",
              "        const buttonEl =\n",
              "          document.querySelector('#df-3b08fd96-0283-4e77-b8b8-84acc25e1811 button.colab-df-convert');\n",
              "        buttonEl.style.display =\n",
              "          google.colab.kernel.accessAllowed ? 'block' : 'none';\n",
              "\n",
              "        async function convertToInteractive(key) {\n",
              "          const element = document.querySelector('#df-3b08fd96-0283-4e77-b8b8-84acc25e1811');\n",
              "          const dataTable =\n",
              "            await google.colab.kernel.invokeFunction('convertToInteractive',\n",
              "                                                     [key], {});\n",
              "          if (!dataTable) return;\n",
              "\n",
              "          const docLinkHtml = 'Like what you see? Visit the ' +\n",
              "            '<a target=\"_blank\" href=https://colab.research.google.com/notebooks/data_table.ipynb>data table notebook</a>'\n",
              "            + ' to learn more about interactive tables.';\n",
              "          element.innerHTML = '';\n",
              "          dataTable['output_type'] = 'display_data';\n",
              "          await google.colab.output.renderOutput(dataTable, element);\n",
              "          const docLink = document.createElement('div');\n",
              "          docLink.innerHTML = docLinkHtml;\n",
              "          element.appendChild(docLink);\n",
              "        }\n",
              "      </script>\n",
              "    </div>\n",
              "  </div>\n",
              "  "
            ]
          },
          "metadata": {},
          "execution_count": 196
        }
      ]
    },
    {
      "cell_type": "code",
      "source": [
        "features_importances_lr2.sort_values(\"Logistic Regression Feature Importance\").plot(figsize=(15,8), x=\"FeatureName\", y=[\"Logistic Regression Feature Importance\"], kind=\"barh\")"
      ],
      "metadata": {
        "colab": {
          "base_uri": "https://localhost:8080/",
          "height": 501
        },
        "id": "2GadPGLls6NZ",
        "outputId": "40538219-c7e4-4035-cc19-662412f2b098"
      },
      "execution_count": null,
      "outputs": [
        {
          "output_type": "execute_result",
          "data": {
            "text/plain": [
              "<matplotlib.axes._subplots.AxesSubplot at 0x7f6797ecec50>"
            ]
          },
          "metadata": {},
          "execution_count": 197
        },
        {
          "output_type": "display_data",
          "data": {
            "text/plain": [
              "<Figure size 1080x576 with 1 Axes>"
            ],
            "image/png": "[encoded data removed]"
          },
          "metadata": {
            "needs_background": "light"
          }
        }
      ]
    },
    {
      "cell_type": "markdown",
      "source": [
        "**Comments**:\n",
        "\n",
        "Both thresholds (40% and 60%) for Logistic Regression models give similarly high scores on the 'housepricedata' dataset. \n",
        "\n",
        "- Threshold 40%: Accuracy (92.41%), AUC (97.23%), Precision (91%), Recall (95%)\n",
        "\n",
        "- Threshold 60%: Accuracy (89.77%), AUC (97.23%), Precision (91%), Recall (88%)\n",
        "\n",
        "Since the purpose of this model is to predict house prices whether they are higher (TRUE) or lower (FALSE) than the Median Price (the 'AboveMedianPrice' column). Therefore, we should minimize the number of FALSE NEGATIVE (FN) forecasts. It helps the investors, or property buyers can anticipate their budget. Also, it helps the real estate agents can figure the suitable customer segment out.\n",
        "\n",
        "Based on the confusion matrixes, we see that the Logistic Regression model with threshold of 40% gives less FALSE NEGATIVE observes than the Random Forest model (8 wrong predictions of Logistic Regression with threshold of 40% are less than both of 18 wrong predictions of Logistic Regression with threshold of 60% and 11 wrong predictions of Logistic Regression with default threshold).\n",
        "\n",
        "Besides, TRUE POSITIVE and TRUE NEGATIVE also are improved.\n",
        "\n",
        "--> Logistic Regression model wth threshold of 40% is better for this purpose."
      ],
      "metadata": {
        "id": "KGEEHvhLt_Xi"
      }
    }
  ]
}